{
  "nbformat": 4,
  "nbformat_minor": 0,
  "metadata": {
    "colab": {
      "name": "bank_customer_segmentation.ipynb",
      "provenance": [],
      "collapsed_sections": []
    },
    "kernelspec": {
      "name": "python3",
      "display_name": "Python 3"
    }
  },
  "cells": [
    {
      "cell_type": "code",
      "metadata": {
        "id": "Sml3mhmWuirt",
        "colab_type": "code",
        "outputId": "210117d9-cc08-4376-e0f0-b53c94353299",
        "colab": {
          "base_uri": "https://localhost:8080/",
          "height": 105
        }
      },
      "source": [
        "import pandas as pd\n",
        "import numpy as np\n",
        "import seaborn as sns\n",
        "import matplotlib\n",
        "import matplotlib.pyplot as plt\n",
        "%matplotlib inline\n",
        "from sklearn.cluster import KMeans\n",
        "from sklearn.model_selection import train_test_split\n",
        "\n",
        "from sklearn.tree import DecisionTreeRegressor\n",
        "import time\n",
        "#import turicreate as tc\n",
        "from sklearn.preprocessing import StandardScaler\n",
        "scaler = StandardScaler() \n",
        "from scipy import stats\n",
        "from sklearn.externals.six import StringIO\n",
        "from sklearn import preprocessing\n",
        "from sklearn import cluster, tree, decomposition\n",
        "import matplotlib.pyplot as plt\n",
        "import pydot\n",
        "from sklearn.cluster import KMeans"
      ],
      "execution_count": 1,
      "outputs": [
        {
          "output_type": "stream",
          "text": [
            "/usr/local/lib/python3.6/dist-packages/statsmodels/tools/_testing.py:19: FutureWarning: pandas.util.testing is deprecated. Use the functions in the public API at pandas.testing instead.\n",
            "  import pandas.util.testing as tm\n",
            "/usr/local/lib/python3.6/dist-packages/sklearn/externals/six.py:31: FutureWarning: The module is deprecated in version 0.21 and will be removed in version 0.23 since we've dropped support for Python 2.7. Please rely on the official version of six (https://pypi.org/project/six/).\n",
            "  \"(https://pypi.org/project/six/).\", FutureWarning)\n"
          ],
          "name": "stderr"
        }
      ]
    },
    {
      "cell_type": "code",
      "metadata": {
        "id": "7xQljxOUZn6v",
        "colab_type": "code",
        "colab": {}
      },
      "source": [
        ""
      ],
      "execution_count": 0,
      "outputs": []
    },
    {
      "cell_type": "markdown",
      "metadata": {
        "id": "rcaOvC0gqgsz",
        "colab_type": "text"
      },
      "source": [
        "# Importing and joining dataset"
      ]
    },
    {
      "cell_type": "code",
      "metadata": {
        "id": "v-e9z3-nvP5E",
        "colab_type": "code",
        "colab": {}
      },
      "source": [
        "business_accts= pd.read_csv(\"BusinessCase_Accts.csv\")\n",
        "business_cust=pd.read_csv(\"BusinessCase_Custs.csv\")\n",
        "business_tx=pd.read_csv(\"BusinessCase_Tx.csv\")\n",
        "\n"
      ],
      "execution_count": 0,
      "outputs": []
    },
    {
      "cell_type": "markdown",
      "metadata": {
        "id": "gg0ue__gr9cK",
        "colab_type": "text"
      },
      "source": [
        "# Combining accounts of customers"
      ]
    },
    {
      "cell_type": "code",
      "metadata": {
        "id": "o1zu_tu1vP_w",
        "colab_type": "code",
        "colab": {}
      },
      "source": [
        "df_combined_accts = business_accts.groupby(['cust_id']).sum()\n",
        "df_combined_accts = df_combined_accts.drop(['Unnamed: 0','iban','branchNumber'], axis=1)\n",
        "df_combined_accts = df_combined_accts.reset_index()"
      ],
      "execution_count": 0,
      "outputs": []
    },
    {
      "cell_type": "code",
      "metadata": {
        "id": "R5_gBEIMvQkn",
        "colab_type": "code",
        "outputId": "60beae4f-693e-4a38-ce88-00df17032b52",
        "colab": {
          "base_uri": "https://localhost:8080/",
          "height": 68
        }
      },
      "source": [
        "df_merged_col = pd.merge(business_cust, df_combined_accts, left_on='id', right_on='cust_id', how='inner')\n",
        "df_merged_col = df_merged_col.drop([ u'cust_id'], axis=1)\n",
        "print('Customer dataset shape : ',business_cust.shape[0])\n",
        "print('balances dataset shape : ',df_combined_accts.shape[0])\n",
        "print('dataset count after joins : ',df_merged_col.shape[0])\n"
      ],
      "execution_count": 4,
      "outputs": [
        {
          "output_type": "stream",
          "text": [
            "Customer dataset shape :  5645\n",
            "balances dataset shape :  5645\n",
            "dataset count after joins :  5645\n"
          ],
          "name": "stdout"
        }
      ]
    },
    {
      "cell_type": "markdown",
      "metadata": {
        "id": "oZGl8cUNw9Rd",
        "colab_type": "text"
      },
      "source": [
        "# Explore different categories customer wise"
      ]
    },
    {
      "cell_type": "code",
      "metadata": {
        "id": "bVe8-m3UvQdB",
        "colab_type": "code",
        "outputId": "30e10aa5-b2dc-4a4a-b19d-81c5d60369ff",
        "colab": {
          "base_uri": "https://localhost:8080/",
          "height": 204
        }
      },
      "source": [
        "transactions = business_tx.groupby(['customerId','categoryTags']).sum() #aggregated transactions by an individual across different categories\n",
        "transactions = transactions.drop([ 'Unnamed: 0','locationRegion', 'locationCity'], axis=1)\n",
        "transactions = transactions.reset_index()\n",
        "transactions.head()"
      ],
      "execution_count": 5,
      "outputs": [
        {
          "output_type": "execute_result",
          "data": {
            "text/html": [
              "<div>\n",
              "<style scoped>\n",
              "    .dataframe tbody tr th:only-of-type {\n",
              "        vertical-align: middle;\n",
              "    }\n",
              "\n",
              "    .dataframe tbody tr th {\n",
              "        vertical-align: top;\n",
              "    }\n",
              "\n",
              "    .dataframe thead th {\n",
              "        text-align: right;\n",
              "    }\n",
              "</style>\n",
              "<table border=\"1\" class=\"dataframe\">\n",
              "  <thead>\n",
              "    <tr style=\"text-align: right;\">\n",
              "      <th></th>\n",
              "      <th>customerId</th>\n",
              "      <th>categoryTags</th>\n",
              "      <th>currencyAmount</th>\n",
              "    </tr>\n",
              "  </thead>\n",
              "  <tbody>\n",
              "    <tr>\n",
              "      <th>0</th>\n",
              "      <td>fe51c153-fbec-4b64-9b00-2530035ef0e1_00004760-...</td>\n",
              "      <td>Bills and Utilities</td>\n",
              "      <td>368.72</td>\n",
              "    </tr>\n",
              "    <tr>\n",
              "      <th>1</th>\n",
              "      <td>fe51c153-fbec-4b64-9b00-2530035ef0e1_00004760-...</td>\n",
              "      <td>Income</td>\n",
              "      <td>2195.64</td>\n",
              "    </tr>\n",
              "    <tr>\n",
              "      <th>2</th>\n",
              "      <td>fe51c153-fbec-4b64-9b00-2530035ef0e1_00004760-...</td>\n",
              "      <td>Taxes</td>\n",
              "      <td>8408.73</td>\n",
              "    </tr>\n",
              "    <tr>\n",
              "      <th>3</th>\n",
              "      <td>fe51c153-fbec-4b64-9b00-2530035ef0e1_00004760-...</td>\n",
              "      <td>Transfer</td>\n",
              "      <td>6298.35</td>\n",
              "    </tr>\n",
              "    <tr>\n",
              "      <th>4</th>\n",
              "      <td>fe51c153-fbec-4b64-9b00-2530035ef0e1_000d112c-...</td>\n",
              "      <td>Income</td>\n",
              "      <td>2883.93</td>\n",
              "    </tr>\n",
              "  </tbody>\n",
              "</table>\n",
              "</div>"
            ],
            "text/plain": [
              "                                          customerId  ... currencyAmount\n",
              "0  fe51c153-fbec-4b64-9b00-2530035ef0e1_00004760-...  ...         368.72\n",
              "1  fe51c153-fbec-4b64-9b00-2530035ef0e1_00004760-...  ...        2195.64\n",
              "2  fe51c153-fbec-4b64-9b00-2530035ef0e1_00004760-...  ...        8408.73\n",
              "3  fe51c153-fbec-4b64-9b00-2530035ef0e1_00004760-...  ...        6298.35\n",
              "4  fe51c153-fbec-4b64-9b00-2530035ef0e1_000d112c-...  ...        2883.93\n",
              "\n",
              "[5 rows x 3 columns]"
            ]
          },
          "metadata": {
            "tags": []
          },
          "execution_count": 5
        }
      ]
    },
    {
      "cell_type": "code",
      "metadata": {
        "id": "6hMQW9GKvQbR",
        "colab_type": "code",
        "colab": {}
      },
      "source": [
        "def func1(row):\n",
        "    if row['categoryTags'] == 'Income':\n",
        "        return row['currencyAmount']\n",
        "    else:\n",
        "        return 0\n",
        "\n",
        "def func2(row):\n",
        "    if row['categoryTags'] == 'Taxes':\n",
        "        return row['currencyAmount']\n",
        "    else:\n",
        "        return 0\n",
        "\n",
        "def func3(row):\n",
        "    if row['categoryTags'] == 'Transfer':\n",
        "        return row['currencyAmount']\n",
        "    else:\n",
        "        return 0\n",
        "def func4(row):\n",
        "    if row['categoryTags'] == 'Mortgage and Rent':\n",
        "        return row['currencyAmount']\n",
        "    else:\n",
        "        return 0\n",
        "\n",
        "def func5(row):\n",
        "    if row['categoryTags'] == 'Bills and Utilities':\n",
        "        return row['currencyAmount']\n",
        "    else:\n",
        "        return 0\n",
        "\n",
        "\n",
        "\n",
        "def func6(row):\n",
        "    if row['categoryTags'] == 'Entertainment':\n",
        "        return row['currencyAmount']\n",
        "    else:\n",
        "        return 0\n",
        "\n",
        "def func7(row):\n",
        "    if row['categoryTags'] == 'Fees and Charges':\n",
        "        return row['currencyAmount']\n",
        "    else:\n",
        "        return 0\n",
        "\n",
        "def func8(row):\n",
        "    if row['categoryTags'] == 'Home':\n",
        "        return row['currencyAmount']\n",
        "    else:\n",
        "        return 0\n",
        "\n",
        "def func9(row):\n",
        "    if row['categoryTags'] == 'Shopping':\n",
        "        return row['currencyAmount']\n",
        "    else:\n",
        "        return 0\n",
        "    \n",
        "def func10(row):\n",
        "    if row['categoryTags'] == 'Food and Dining':\n",
        "        return row['currencyAmount']\n",
        "    else:\n",
        "        return 0\n",
        "\n",
        "def func11(row):\n",
        "    if row['categoryTags'] == 'Travel':\n",
        "        return row['currencyAmount']\n",
        "    else:\n",
        "        return 0\n",
        "\n",
        "def func12(row):\n",
        "    if row['categoryTags'] == 'Auto and Transport':\n",
        "        return row['currencyAmount']\n",
        "    else:\n",
        "        return 0\n",
        "\n",
        "def func13(row):\n",
        "    if row['categoryTags'] == 'Health and Fitness':\n",
        "        return row['currencyAmount']\n",
        "    else:\n",
        "        return 0\n",
        "\n",
        "def func14(row):\n",
        "    if row['categoryTags'] == 'Kids':\n",
        "        return row['currencyAmount']\n",
        "    else:\n",
        "        return 0\n",
        "    \n",
        "\n",
        "transactions['Income'] = transactions.apply(func1, axis=1)\n",
        "transactions['Taxes'] = transactions.apply(func2, axis=1)\n",
        "transactions['Transfer'] = transactions.apply(func3, axis=1)\n",
        "transactions['Mortgage_and_Rent'] = transactions.apply(func4, axis=1)\n",
        "transactions['Bills_and_Utilities'] = transactions.apply(func5, axis=1)\n",
        "transactions['Entertainment'] = transactions.apply(func6, axis=1)\n",
        "transactions['Fees_and_Charges'] = transactions.apply(func7, axis=1)\n",
        "transactions['Home'] = transactions.apply(func8, axis=1)\n",
        "transactions['Shopping'] = transactions.apply(func9, axis=1)\n",
        "transactions['Food_and_Dining'] = transactions.apply(func10, axis=1)\n",
        "transactions['Travel'] = transactions.apply(func11, axis=1)\n",
        "transactions['Auto_and_Transport'] = transactions.apply(func12, axis=1)\n",
        "transactions['Health_and_Fitness'] = transactions.apply(func13, axis=1)\n",
        "transactions['Kids'] = transactions.apply(func14, axis=1)\n",
        "\n",
        "#transactions_cleaned = transactions.drop(['categoryTags','currencyAmount'], axis=1)\n",
        "transactions_cleaned = transactions.groupby(['customerId']).sum().reset_index()"
      ],
      "execution_count": 0,
      "outputs": []
    },
    {
      "cell_type": "code",
      "metadata": {
        "id": "7v8M0HvCkXcZ",
        "colab_type": "code",
        "outputId": "3ce623a2-4ccc-4002-a432-ee1e2e7b1ae5",
        "colab": {
          "base_uri": "https://localhost:8080/",
          "height": 629
        }
      },
      "source": [
        "merged_dataset_final = pd.merge(df_merged_col, transactions_cleaned, left_on='id', right_on='customerId', how='inner')\n",
        "merged_dataset_final = merged_dataset_final.drop([ u'customerId','workActivity','occupationIndustry','habitationStatus'], axis=1)\n",
        "\n",
        "print('Customer dataset shape : ',df_merged_col.shape[0])\n",
        "print('balances dataset shape : ',transactions_cleaned.shape[0])\n",
        "print('dataset count after joins : ',merged_dataset_final.shape[0])\n",
        "\n",
        "merged_dataset_final_ = merged_dataset_final # making a copy of the original dataset\n",
        "merged_dataset_final.info()"
      ],
      "execution_count": 7,
      "outputs": [
        {
          "output_type": "stream",
          "text": [
            "Customer dataset shape :  5645\n",
            "balances dataset shape :  5480\n",
            "dataset count after joins :  5480\n",
            "<class 'pandas.core.frame.DataFrame'>\n",
            "Int64Index: 5480 entries, 0 to 5479\n",
            "Data columns (total 26 columns):\n",
            " #   Column                                 Non-Null Count  Dtype  \n",
            "---  ------                                 --------------  -----  \n",
            " 0   Unnamed: 0                             5480 non-null   int64  \n",
            " 1   id                                     5480 non-null   object \n",
            " 2   type                                   5480 non-null   object \n",
            " 3   gender                                 5480 non-null   object \n",
            " 4   birthDate                              5480 non-null   object \n",
            " 5   totalIncome                            5480 non-null   float64\n",
            " 6   relationshipStatus                     5480 non-null   object \n",
            " 7   addresses_principalResidence_province  5480 non-null   object \n",
            " 8   schoolAttendance                       1556 non-null   object \n",
            " 9   schools                                390 non-null    float64\n",
            " 10  balance                                5480 non-null   float64\n",
            " 11  currencyAmount                         5480 non-null   float64\n",
            " 12  Income                                 5480 non-null   float64\n",
            " 13  Taxes                                  5480 non-null   float64\n",
            " 14  Transfer                               5480 non-null   float64\n",
            " 15  Mortgage_and_Rent                      5480 non-null   float64\n",
            " 16  Bills_and_Utilities                    5480 non-null   float64\n",
            " 17  Entertainment                          5480 non-null   float64\n",
            " 18  Fees_and_Charges                       5480 non-null   float64\n",
            " 19  Home                                   5480 non-null   float64\n",
            " 20  Shopping                               5480 non-null   float64\n",
            " 21  Food_and_Dining                        5480 non-null   float64\n",
            " 22  Travel                                 5480 non-null   float64\n",
            " 23  Auto_and_Transport                     5480 non-null   float64\n",
            " 24  Health_and_Fitness                     5480 non-null   float64\n",
            " 25  Kids                                   5480 non-null   float64\n",
            "dtypes: float64(18), int64(1), object(7)\n",
            "memory usage: 1.1+ MB\n"
          ],
          "name": "stdout"
        }
      ]
    },
    {
      "cell_type": "markdown",
      "metadata": {
        "id": "JwXrlr12yJPF",
        "colab_type": "text"
      },
      "source": [
        "# check null values and cleaning dataset"
      ]
    },
    {
      "cell_type": "code",
      "metadata": {
        "id": "JqbriydTvQaL",
        "colab_type": "code",
        "outputId": "62a8cc27-d931-479b-c6d7-f949c9c0b716",
        "colab": {
          "base_uri": "https://localhost:8080/",
          "height": 1000
        }
      },
      "source": [
        "#in each column of dataframe\n",
        "uniqueValues = merged_dataset_final.nunique(dropna=False)\n",
        "print('Count of unique value in each column :')\n",
        "print(uniqueValues)\n",
        "# drop unnecessary columns\n",
        "cleaned_data=merged_dataset_final.drop([\"addresses_principalResidence_province\",\"schoolAttendance\",\"schools\"], axis = 1) \n",
        "print(\" \\ntotal nulls in combined dataset : \",cleaned_data .isnull().sum())\n",
        "cleaned_data.info()"
      ],
      "execution_count": 8,
      "outputs": [
        {
          "output_type": "stream",
          "text": [
            "Count of unique value in each column :\n",
            "Unnamed: 0                               5480\n",
            "id                                       5480\n",
            "type                                        1\n",
            "gender                                      3\n",
            "birthDate                                2253\n",
            "totalIncome                              4759\n",
            "relationshipStatus                          5\n",
            "addresses_principalResidence_province       1\n",
            "schoolAttendance                            6\n",
            "schools                                     2\n",
            "balance                                  5317\n",
            "currencyAmount                           5464\n",
            "Income                                   4052\n",
            "Taxes                                    1269\n",
            "Transfer                                 5127\n",
            "Mortgage_and_Rent                         368\n",
            "Bills_and_Utilities                      3091\n",
            "Entertainment                               6\n",
            "Fees_and_Charges                            1\n",
            "Home                                      500\n",
            "Shopping                                  783\n",
            "Food_and_Dining                           439\n",
            "Travel                                     86\n",
            "Auto_and_Transport                          7\n",
            "Health_and_Fitness                          3\n",
            "Kids                                        2\n",
            "dtype: int64\n",
            " \n",
            "total nulls in combined dataset :  Unnamed: 0             0\n",
            "id                     0\n",
            "type                   0\n",
            "gender                 0\n",
            "birthDate              0\n",
            "totalIncome            0\n",
            "relationshipStatus     0\n",
            "balance                0\n",
            "currencyAmount         0\n",
            "Income                 0\n",
            "Taxes                  0\n",
            "Transfer               0\n",
            "Mortgage_and_Rent      0\n",
            "Bills_and_Utilities    0\n",
            "Entertainment          0\n",
            "Fees_and_Charges       0\n",
            "Home                   0\n",
            "Shopping               0\n",
            "Food_and_Dining        0\n",
            "Travel                 0\n",
            "Auto_and_Transport     0\n",
            "Health_and_Fitness     0\n",
            "Kids                   0\n",
            "dtype: int64\n",
            "<class 'pandas.core.frame.DataFrame'>\n",
            "Int64Index: 5480 entries, 0 to 5479\n",
            "Data columns (total 23 columns):\n",
            " #   Column               Non-Null Count  Dtype  \n",
            "---  ------               --------------  -----  \n",
            " 0   Unnamed: 0           5480 non-null   int64  \n",
            " 1   id                   5480 non-null   object \n",
            " 2   type                 5480 non-null   object \n",
            " 3   gender               5480 non-null   object \n",
            " 4   birthDate            5480 non-null   object \n",
            " 5   totalIncome          5480 non-null   float64\n",
            " 6   relationshipStatus   5480 non-null   object \n",
            " 7   balance              5480 non-null   float64\n",
            " 8   currencyAmount       5480 non-null   float64\n",
            " 9   Income               5480 non-null   float64\n",
            " 10  Taxes                5480 non-null   float64\n",
            " 11  Transfer             5480 non-null   float64\n",
            " 12  Mortgage_and_Rent    5480 non-null   float64\n",
            " 13  Bills_and_Utilities  5480 non-null   float64\n",
            " 14  Entertainment        5480 non-null   float64\n",
            " 15  Fees_and_Charges     5480 non-null   float64\n",
            " 16  Home                 5480 non-null   float64\n",
            " 17  Shopping             5480 non-null   float64\n",
            " 18  Food_and_Dining      5480 non-null   float64\n",
            " 19  Travel               5480 non-null   float64\n",
            " 20  Auto_and_Transport   5480 non-null   float64\n",
            " 21  Health_and_Fitness   5480 non-null   float64\n",
            " 22  Kids                 5480 non-null   float64\n",
            "dtypes: float64(17), int64(1), object(5)\n",
            "memory usage: 1.0+ MB\n"
          ],
          "name": "stdout"
        }
      ]
    },
    {
      "cell_type": "markdown",
      "metadata": {
        "id": "IFR-uaamySde",
        "colab_type": "text"
      },
      "source": [
        "# Visulaization of dataset"
      ]
    },
    {
      "cell_type": "code",
      "metadata": {
        "id": "moVBBIRtvQYu",
        "colab_type": "code",
        "outputId": "cf20972d-8561-4ba4-cd06-b6590922019c",
        "colab": {
          "base_uri": "https://localhost:8080/",
          "height": 158
        }
      },
      "source": [
        "plt.figure(figsize=(16,5))\n",
        "plt.subplot(2,2,1)\n",
        "plt.ylim(0,40000)\n",
        "sns.boxplot(y=cleaned_data[\"balance\"], color=\"red\")\n",
        "plt.subplot(2,2,2)\n",
        "plt.ylim(1000, 70000)\n",
        "sns.boxplot(y=cleaned_data[\"totalIncome\"])\n",
        "plt.show()\n",
        "\n",
        "\n"
      ],
      "execution_count": 9,
      "outputs": [
        {
          "output_type": "display_data",
          "data": {
            "image/png": "[encoded data removed]",
            "text/plain": [
              "<Figure size 1152x360 with 2 Axes>"
            ]
          },
          "metadata": {
            "tags": [],
            "needs_background": "light"
          }
        }
      ]
    },
    {
      "cell_type": "code",
      "metadata": {
        "id": "blU-U2fldRtC",
        "colab_type": "code",
        "outputId": "20f8f582-199d-4cfb-903d-58b7806445bd",
        "colab": {
          "base_uri": "https://localhost:8080/",
          "height": 265
        }
      },
      "source": [
        "genders = cleaned_data.gender.value_counts()\n",
        "sns.set_style(\"darkgrid\")\n",
        "plt.figure(figsize=(10,4))\n",
        "sns.barplot(x=genders.index, y=genders.values)\n",
        "plt.show()\n"
      ],
      "execution_count": 10,
      "outputs": [
        {
          "output_type": "display_data",
          "data": {
            "image/png": "[encoded data removed]",
            "text/plain": [
              "<Figure size 720x288 with 1 Axes>"
            ]
          },
          "metadata": {
            "tags": []
          }
        }
      ]
    },
    {
      "cell_type": "markdown",
      "metadata": {
        "id": "XMbF3vkt2hL4",
        "colab_type": "text"
      },
      "source": [
        "# \n",
        "* The number of females more than male.  \n",
        "* most of the customers comes under 30,000 income range.\n",
        "* Most of the customers belong to mid age to senior.\n",
        "* Income and transfer are mostly used categories.\n",
        "* The second important used categories are bills and utilities, food and dinning.\n",
        "\n",
        "\n",
        "*   List item\n",
        "\n",
        "\n"
      ]
    },
    {
      "cell_type": "code",
      "metadata": {
        "id": "uLadUadedSJk",
        "colab_type": "code",
        "outputId": "04b1ed76-29a5-4061-b9ba-28e845340db6",
        "colab": {
          "base_uri": "https://localhost:8080/",
          "height": 404
        }
      },
      "source": [
        "ai0_10 = cleaned_data['totalIncome'][(cleaned_data['totalIncome'] >= 0) & (cleaned_data['totalIncome'] <= 30000)]\n",
        "ai11_20 = cleaned_data['totalIncome'][(cleaned_data['totalIncome'] >= 30001) & (cleaned_data['totalIncome'] <= 60000)]\n",
        "ai21_30 = cleaned_data['totalIncome'][(cleaned_data['totalIncome'] >= 60001) & (cleaned_data['totalIncome'] <= 90000)]\n",
        "ai31_40 = cleaned_data['totalIncome'][(cleaned_data['totalIncome'] >= 90001) & (cleaned_data['totalIncome'] <= 120000)]\n",
        "ai41_50 = cleaned_data['totalIncome'][(cleaned_data['totalIncome'] >= 120001) & (cleaned_data['totalIncome'] <= 150000)]\n",
        "ai51_70 = cleaned_data['totalIncome'][(cleaned_data['totalIncome'] >= 150001) & (cleaned_data['totalIncome'] <= 400000)]\n",
        "aix = [\"$ 0 - 30,000\", \"$ 30,001 - 60,000\", \"$ 60,001 - 90,000\", \"$ 90,001 - 120,000\", \"$ 120,001 - 1,50,000\",\"$ 150,001 - 4,00,000\"]\n",
        "aiy = [len(ai0_10.values), len(ai11_20.values), len(ai21_30.values), len(ai31_40.values), len(ai41_50.values),len(ai51_70.values)]\n",
        "\n",
        "plt.figure(figsize=(15,6))\n",
        "sns.barplot(x=aix, y=aiy, palette=\"Set2\")\n",
        "plt.title(\"Annual Incomes\")\n",
        "plt.xlabel(\"Income\")\n",
        "plt.ylabel(\"Number of Customer\")\n",
        "plt.show()"
      ],
      "execution_count": 11,
      "outputs": [
        {
          "output_type": "display_data",
          "data": {
            "image/png": "[encoded data removed]",
            "text/plain": [
              "<Figure size 1080x432 with 1 Axes>"
            ]
          },
          "metadata": {
            "tags": []
          }
        }
      ]
    },
    {
      "cell_type": "code",
      "metadata": {
        "id": "1SSybK2NdSqF",
        "colab_type": "code",
        "outputId": "ed7df9fe-306d-4393-fcce-93f16f73efa8",
        "colab": {
          "base_uri": "https://localhost:8080/",
          "height": 421
        }
      },
      "source": [
        "# Converting from date to age\n",
        "cleaned_data[\"birthDate\"] = pd.to_datetime(cleaned_data[\"birthDate\"])\n",
        "from datetime import date \n",
        "def calculateAge(birthDate): \n",
        "  today = date.today()\n",
        "  age = today.year - birthDate.year - ((today.month, today.day) < (birthDate.month, birthDate.day)) \n",
        "  return age \n",
        "\n",
        "print(calculateAge(date(1985, 12, 26))) \n",
        "cleaned_data[\"age\"] = cleaned_data[\"birthDate\"].apply(lambda x : calculateAge(x))\n",
        "age18_25 = cleaned_data.age[(cleaned_data.age <= 25) & (cleaned_data.age >= 18)]\n",
        "age26_35 = cleaned_data.age[(cleaned_data.age <= 35) & (cleaned_data.age >= 26)]\n",
        "age36_45 = cleaned_data.age[(cleaned_data.age <= 45) & (cleaned_data.age >= 36)]\n",
        "age46_55 = cleaned_data.age[(cleaned_data.age <= 55) & (cleaned_data.age >= 46)]\n",
        "age55above = cleaned_data.age[cleaned_data.age >= 56]\n",
        "\n",
        "x = [\"18-25\",\"26-35\",\"36-45\",\"46-55\",\"55+\"]\n",
        "y = [len(age18_25.values),len(age26_35.values),len(age36_45.values),len(age46_55.values),len(age55above.values)]\n",
        "cleaned_data=cleaned_data.drop(['birthDate'],axis=1)\n",
        "plt.figure(figsize=(15,6))\n",
        "sns.barplot(x=x, y=y, palette=\"rocket\")\n",
        "plt.title(\"Number of Customer and Ages\")\n",
        "plt.xlabel(\"Age\")\n",
        "plt.ylabel(\"Number of Customer\")\n",
        "plt.show()"
      ],
      "execution_count": 12,
      "outputs": [
        {
          "output_type": "stream",
          "text": [
            "34\n"
          ],
          "name": "stdout"
        },
        {
          "output_type": "display_data",
          "data": {
            "image/png": "[encoded data removed]",
            "text/plain": [
              "<Figure size 1080x432 with 1 Axes>"
            ]
          },
          "metadata": {
            "tags": []
          }
        }
      ]
    },
    {
      "cell_type": "code",
      "metadata": {
        "id": "GjsbhLDcdSuy",
        "colab_type": "code",
        "outputId": "9d14f303-f089-4f14-a40b-64d7311bf259",
        "colab": {
          "base_uri": "https://localhost:8080/",
          "height": 387
        }
      },
      "source": [
        "cleaned_data.groupby('gender')['totalIncome','balance'].sum().plot.bar()"
      ],
      "execution_count": 13,
      "outputs": [
        {
          "output_type": "stream",
          "text": [
            "/usr/local/lib/python3.6/dist-packages/ipykernel_launcher.py:1: FutureWarning: Indexing with multiple keys (implicitly converted to a tuple of keys) will be deprecated, use a list instead.\n",
            "  \"\"\"Entry point for launching an IPython kernel.\n"
          ],
          "name": "stderr"
        },
        {
          "output_type": "execute_result",
          "data": {
            "text/plain": [
              "<matplotlib.axes._subplots.AxesSubplot at 0x7f8b18dfa668>"
            ]
          },
          "metadata": {
            "tags": []
          },
          "execution_count": 13
        },
        {
          "output_type": "display_data",
          "data": {
            "image/png": "[encoded data removed]",
            "text/plain": [
              "<Figure size 432x288 with 1 Axes>"
            ]
          },
          "metadata": {
            "tags": []
          }
        }
      ]
    },
    {
      "cell_type": "code",
      "metadata": {
        "id": "FitqQrxC7X6p",
        "colab_type": "code",
        "outputId": "37772782-ccba-4305-c0d2-39a9bbc7e222",
        "colab": {
          "base_uri": "https://localhost:8080/",
          "height": 393
        }
      },
      "source": [
        "business_tx.groupby('categoryTags')['currencyAmount'].sum().plot.bar()"
      ],
      "execution_count": 14,
      "outputs": [
        {
          "output_type": "execute_result",
          "data": {
            "text/plain": [
              "<matplotlib.axes._subplots.AxesSubplot at 0x7f8b18afe3c8>"
            ]
          },
          "metadata": {
            "tags": []
          },
          "execution_count": 14
        },
        {
          "output_type": "display_data",
          "data": {
            "image/png": "[encoded data removed]",
            "text/plain": [
              "<Figure size 432x288 with 1 Axes>"
            ]
          },
          "metadata": {
            "tags": []
          }
        }
      ]
    },
    {
      "cell_type": "code",
      "metadata": {
        "id": "4zKQ5pxd8tHZ",
        "colab_type": "code",
        "outputId": "db221403-97c5-419c-cd53-f7e1334eb809",
        "colab": {
          "base_uri": "https://localhost:8080/",
          "height": 382
        }
      },
      "source": [
        "business_tx.loc[~business_tx['categoryTags'].isin(['Transfer','Income'])].groupby('categoryTags')['currencyAmount'].count().plot.bar()"
      ],
      "execution_count": 15,
      "outputs": [
        {
          "output_type": "execute_result",
          "data": {
            "text/plain": [
              "<matplotlib.axes._subplots.AxesSubplot at 0x7f8b187d6630>"
            ]
          },
          "metadata": {
            "tags": []
          },
          "execution_count": 15
        },
        {
          "output_type": "display_data",
          "data": {
            "image/png": "[encoded data removed]",
            "text/plain": [
              "<Figure size 432x288 with 1 Axes>"
            ]
          },
          "metadata": {
            "tags": []
          }
        }
      ]
    },
    {
      "cell_type": "markdown",
      "metadata": {
        "id": "--jsa6RNBkzv",
        "colab_type": "text"
      },
      "source": [
        "# labelize and Normalize the dataset"
      ]
    },
    {
      "cell_type": "code",
      "metadata": {
        "id": "MwD3BmyLRHbR",
        "colab_type": "code",
        "colab": {}
      },
      "source": [
        "scaled_features = cleaned_data.copy()"
      ],
      "execution_count": 0,
      "outputs": []
    },
    {
      "cell_type": "code",
      "metadata": {
        "id": "thd3aITJ7EIQ",
        "colab_type": "code",
        "colab": {}
      },
      "source": [
        "le = preprocessing.LabelEncoder()\n",
        "scaled_features['gender_encoded'] = le.fit_transform(scaled_features['gender'])\n",
        "scaled_features['relationshipStatus_encoded'] = le.fit_transform(scaled_features['relationshipStatus'])\n",
        "scaled_features['age_encoded'] = le.fit_transform(scaled_features['age'])\n",
        "\n",
        "scaler = StandardScaler()\n",
        "scaled_features['totalIncome_scaled'] = scaler.fit_transform(scaled_features['totalIncome'].values.reshape(-1, 1))\n",
        "scaled_features['balance_scaled'] = scaler.fit_transform(scaled_features['balance'].values.reshape(-1, 1))\n",
        "scaled_features['Income_scaled'] = scaler.fit_transform(scaled_features['Income'].values.reshape(-1, 1))\n",
        "scaled_features['Transfer_scaled'] = scaler.fit_transform(scaled_features['Transfer'].values.reshape(-1, 1))\n",
        "scaled_features['Bills_and_Utilities_scaled'] = scaler.fit_transform(scaled_features['Bills_and_Utilities'].values.reshape(-1, 1))\n",
        "scaled_features['Food_and_Dining_scaled'] = scaler.fit_transform(scaled_features['Food_and_Dining'].values.reshape(-1, 1))\n",
        "\n",
        "scaled_features['Taxes_scaled'] = scaler.fit_transform(scaled_features['Taxes'].values.reshape(-1, 1))\n",
        "scaled_features['Mortgage_and_Rent_scaled'] = scaler.fit_transform(scaled_features['Mortgage_and_Rent'].values.reshape(-1, 1))\n",
        "scaled_features['Entertainment_scaled'] = scaler.fit_transform(scaled_features['Entertainment'].values.reshape(-1, 1))\n",
        "scaled_features['Home_scaled'] = scaler.fit_transform(scaled_features['Home'].values.reshape(-1, 1))\n",
        "scaled_features['Shopping_scaled'] = scaler.fit_transform(scaled_features['Shopping'].values.reshape(-1, 1))\n",
        "scaled_features['Travel_scaled'] = scaler.fit_transform(scaled_features['Travel'].values.reshape(-1, 1))\n",
        "scaled_features['Auto_Transport_scaled'] = scaler.fit_transform(scaled_features['Auto_and_Transport'].values.reshape(-1, 1))"
      ],
      "execution_count": 0,
      "outputs": []
    },
    {
      "cell_type": "code",
      "metadata": {
        "id": "dVpOauNFvSWb",
        "colab_type": "code",
        "outputId": "ca85a79e-afac-4811-c8f1-572209981aaf",
        "colab": {
          "base_uri": "https://localhost:8080/",
          "height": 326
        }
      },
      "source": [
        "scaled_features.head()"
      ],
      "execution_count": 18,
      "outputs": [
        {
          "output_type": "execute_result",
          "data": {
            "text/html": [
              "<div>\n",
              "<style scoped>\n",
              "    .dataframe tbody tr th:only-of-type {\n",
              "        vertical-align: middle;\n",
              "    }\n",
              "\n",
              "    .dataframe tbody tr th {\n",
              "        vertical-align: top;\n",
              "    }\n",
              "\n",
              "    .dataframe thead th {\n",
              "        text-align: right;\n",
              "    }\n",
              "</style>\n",
              "<table border=\"1\" class=\"dataframe\">\n",
              "  <thead>\n",
              "    <tr style=\"text-align: right;\">\n",
              "      <th></th>\n",
              "      <th>Unnamed: 0</th>\n",
              "      <th>id</th>\n",
              "      <th>type</th>\n",
              "      <th>gender</th>\n",
              "      <th>totalIncome</th>\n",
              "      <th>relationshipStatus</th>\n",
              "      <th>balance</th>\n",
              "      <th>currencyAmount</th>\n",
              "      <th>Income</th>\n",
              "      <th>Taxes</th>\n",
              "      <th>Transfer</th>\n",
              "      <th>Mortgage_and_Rent</th>\n",
              "      <th>Bills_and_Utilities</th>\n",
              "      <th>Entertainment</th>\n",
              "      <th>Fees_and_Charges</th>\n",
              "      <th>Home</th>\n",
              "      <th>Shopping</th>\n",
              "      <th>Food_and_Dining</th>\n",
              "      <th>Travel</th>\n",
              "      <th>Auto_and_Transport</th>\n",
              "      <th>Health_and_Fitness</th>\n",
              "      <th>Kids</th>\n",
              "      <th>age</th>\n",
              "      <th>gender_encoded</th>\n",
              "      <th>relationshipStatus_encoded</th>\n",
              "      <th>age_encoded</th>\n",
              "      <th>totalIncome_scaled</th>\n",
              "      <th>balance_scaled</th>\n",
              "      <th>Income_scaled</th>\n",
              "      <th>Transfer_scaled</th>\n",
              "      <th>Bills_and_Utilities_scaled</th>\n",
              "      <th>Food_and_Dining_scaled</th>\n",
              "      <th>Taxes_scaled</th>\n",
              "      <th>Mortgage_and_Rent_scaled</th>\n",
              "      <th>Entertainment_scaled</th>\n",
              "      <th>Home_scaled</th>\n",
              "      <th>Shopping_scaled</th>\n",
              "      <th>Travel_scaled</th>\n",
              "      <th>Auto_Transport_scaled</th>\n",
              "    </tr>\n",
              "  </thead>\n",
              "  <tbody>\n",
              "    <tr>\n",
              "      <th>0</th>\n",
              "      <td>0</td>\n",
              "      <td>fe51c153-fbec-4b64-9b00-2530035ef0e1_1bf5af3c-...</td>\n",
              "      <td>Personal</td>\n",
              "      <td>Male</td>\n",
              "      <td>0.0</td>\n",
              "      <td>Single</td>\n",
              "      <td>0.00</td>\n",
              "      <td>8557.305</td>\n",
              "      <td>0.00</td>\n",
              "      <td>0.0</td>\n",
              "      <td>8557.305</td>\n",
              "      <td>0.0</td>\n",
              "      <td>0.00</td>\n",
              "      <td>0.0</td>\n",
              "      <td>0.0</td>\n",
              "      <td>0.0</td>\n",
              "      <td>0.0</td>\n",
              "      <td>0.00</td>\n",
              "      <td>0.0</td>\n",
              "      <td>0.0</td>\n",
              "      <td>0.0</td>\n",
              "      <td>0.0</td>\n",
              "      <td>34</td>\n",
              "      <td>1</td>\n",
              "      <td>3</td>\n",
              "      <td>19</td>\n",
              "      <td>-1.036073</td>\n",
              "      <td>-0.975635</td>\n",
              "      <td>-0.660250</td>\n",
              "      <td>0.381010</td>\n",
              "      <td>-0.814138</td>\n",
              "      <td>-0.275179</td>\n",
              "      <td>-0.245259</td>\n",
              "      <td>-0.278796</td>\n",
              "      <td>-0.15075</td>\n",
              "      <td>-0.207476</td>\n",
              "      <td>-0.349470</td>\n",
              "      <td>-0.11093</td>\n",
              "      <td>-0.031166</td>\n",
              "    </tr>\n",
              "    <tr>\n",
              "      <th>1</th>\n",
              "      <td>1</td>\n",
              "      <td>fe51c153-fbec-4b64-9b00-2530035ef0e1_6e740a94-...</td>\n",
              "      <td>Personal</td>\n",
              "      <td>Female</td>\n",
              "      <td>40009.2</td>\n",
              "      <td>Married</td>\n",
              "      <td>39306.34</td>\n",
              "      <td>5012.680</td>\n",
              "      <td>3077.64</td>\n",
              "      <td>0.0</td>\n",
              "      <td>1463.080</td>\n",
              "      <td>0.0</td>\n",
              "      <td>471.96</td>\n",
              "      <td>0.0</td>\n",
              "      <td>0.0</td>\n",
              "      <td>0.0</td>\n",
              "      <td>0.0</td>\n",
              "      <td>0.00</td>\n",
              "      <td>0.0</td>\n",
              "      <td>0.0</td>\n",
              "      <td>0.0</td>\n",
              "      <td>0.0</td>\n",
              "      <td>43</td>\n",
              "      <td>0</td>\n",
              "      <td>1</td>\n",
              "      <td>28</td>\n",
              "      <td>0.107594</td>\n",
              "      <td>0.430486</td>\n",
              "      <td>-0.293708</td>\n",
              "      <td>-0.450144</td>\n",
              "      <td>0.724232</td>\n",
              "      <td>-0.275179</td>\n",
              "      <td>-0.245259</td>\n",
              "      <td>-0.278796</td>\n",
              "      <td>-0.15075</td>\n",
              "      <td>-0.207476</td>\n",
              "      <td>-0.349470</td>\n",
              "      <td>-0.11093</td>\n",
              "      <td>-0.031166</td>\n",
              "    </tr>\n",
              "    <tr>\n",
              "      <th>2</th>\n",
              "      <td>2</td>\n",
              "      <td>fe51c153-fbec-4b64-9b00-2530035ef0e1_3918fdef-...</td>\n",
              "      <td>Personal</td>\n",
              "      <td>Female</td>\n",
              "      <td>0.0</td>\n",
              "      <td>Single</td>\n",
              "      <td>122.16</td>\n",
              "      <td>1647.772</td>\n",
              "      <td>0.00</td>\n",
              "      <td>0.0</td>\n",
              "      <td>1447.042</td>\n",
              "      <td>0.0</td>\n",
              "      <td>0.00</td>\n",
              "      <td>0.0</td>\n",
              "      <td>0.0</td>\n",
              "      <td>0.0</td>\n",
              "      <td>66.3</td>\n",
              "      <td>134.43</td>\n",
              "      <td>0.0</td>\n",
              "      <td>0.0</td>\n",
              "      <td>0.0</td>\n",
              "      <td>0.0</td>\n",
              "      <td>16</td>\n",
              "      <td>0</td>\n",
              "      <td>3</td>\n",
              "      <td>1</td>\n",
              "      <td>-1.036073</td>\n",
              "      <td>-0.971265</td>\n",
              "      <td>-0.660250</td>\n",
              "      <td>-0.452023</td>\n",
              "      <td>-0.814138</td>\n",
              "      <td>2.952720</td>\n",
              "      <td>-0.245259</td>\n",
              "      <td>-0.278796</td>\n",
              "      <td>-0.15075</td>\n",
              "      <td>-0.207476</td>\n",
              "      <td>1.238557</td>\n",
              "      <td>-0.11093</td>\n",
              "      <td>-0.031166</td>\n",
              "    </tr>\n",
              "    <tr>\n",
              "      <th>3</th>\n",
              "      <td>3</td>\n",
              "      <td>fe51c153-fbec-4b64-9b00-2530035ef0e1_d81a6d15-...</td>\n",
              "      <td>Personal</td>\n",
              "      <td>Other</td>\n",
              "      <td>44709.0</td>\n",
              "      <td>Married</td>\n",
              "      <td>43687.72</td>\n",
              "      <td>25992.760</td>\n",
              "      <td>6878.32</td>\n",
              "      <td>0.0</td>\n",
              "      <td>19114.440</td>\n",
              "      <td>0.0</td>\n",
              "      <td>0.00</td>\n",
              "      <td>0.0</td>\n",
              "      <td>0.0</td>\n",
              "      <td>0.0</td>\n",
              "      <td>0.0</td>\n",
              "      <td>0.00</td>\n",
              "      <td>0.0</td>\n",
              "      <td>0.0</td>\n",
              "      <td>0.0</td>\n",
              "      <td>0.0</td>\n",
              "      <td>37</td>\n",
              "      <td>2</td>\n",
              "      <td>1</td>\n",
              "      <td>22</td>\n",
              "      <td>0.241938</td>\n",
              "      <td>0.587223</td>\n",
              "      <td>0.158947</td>\n",
              "      <td>1.617874</td>\n",
              "      <td>-0.814138</td>\n",
              "      <td>-0.275179</td>\n",
              "      <td>-0.245259</td>\n",
              "      <td>-0.278796</td>\n",
              "      <td>-0.15075</td>\n",
              "      <td>-0.207476</td>\n",
              "      <td>-0.349470</td>\n",
              "      <td>-0.11093</td>\n",
              "      <td>-0.031166</td>\n",
              "    </tr>\n",
              "    <tr>\n",
              "      <th>4</th>\n",
              "      <td>4</td>\n",
              "      <td>fe51c153-fbec-4b64-9b00-2530035ef0e1_e21dfbc8-...</td>\n",
              "      <td>Personal</td>\n",
              "      <td>Male</td>\n",
              "      <td>21496.0</td>\n",
              "      <td>Single</td>\n",
              "      <td>23456.30</td>\n",
              "      <td>5304.530</td>\n",
              "      <td>4133.85</td>\n",
              "      <td>0.0</td>\n",
              "      <td>1170.680</td>\n",
              "      <td>0.0</td>\n",
              "      <td>0.00</td>\n",
              "      <td>0.0</td>\n",
              "      <td>0.0</td>\n",
              "      <td>0.0</td>\n",
              "      <td>0.0</td>\n",
              "      <td>0.00</td>\n",
              "      <td>0.0</td>\n",
              "      <td>0.0</td>\n",
              "      <td>0.0</td>\n",
              "      <td>0.0</td>\n",
              "      <td>37</td>\n",
              "      <td>1</td>\n",
              "      <td>3</td>\n",
              "      <td>22</td>\n",
              "      <td>-0.421608</td>\n",
              "      <td>-0.136524</td>\n",
              "      <td>-0.167915</td>\n",
              "      <td>-0.484401</td>\n",
              "      <td>-0.814138</td>\n",
              "      <td>-0.275179</td>\n",
              "      <td>-0.245259</td>\n",
              "      <td>-0.278796</td>\n",
              "      <td>-0.15075</td>\n",
              "      <td>-0.207476</td>\n",
              "      <td>-0.349470</td>\n",
              "      <td>-0.11093</td>\n",
              "      <td>-0.031166</td>\n",
              "    </tr>\n",
              "  </tbody>\n",
              "</table>\n",
              "</div>"
            ],
            "text/plain": [
              "   Unnamed: 0  ... Auto_Transport_scaled\n",
              "0           0  ...             -0.031166\n",
              "1           1  ...             -0.031166\n",
              "2           2  ...             -0.031166\n",
              "3           3  ...             -0.031166\n",
              "4           4  ...             -0.031166\n",
              "\n",
              "[5 rows x 39 columns]"
            ]
          },
          "metadata": {
            "tags": []
          },
          "execution_count": 18
        }
      ]
    },
    {
      "cell_type": "markdown",
      "metadata": {
        "id": "iYz3dbl5yd8I",
        "colab_type": "text"
      },
      "source": [
        "# Selecting variables for clustering"
      ]
    },
    {
      "cell_type": "code",
      "metadata": {
        "id": "lCnLQPYSdSHT",
        "colab_type": "code",
        "outputId": "3fbd3e98-3208-4d5e-d0b8-36e83f7d9639",
        "colab": {
          "base_uri": "https://localhost:8080/",
          "height": 224
        }
      },
      "source": [
        "category_cluster=scaled_features[['age_encoded','totalIncome_scaled','balance_scaled','relationshipStatus_encoded','Bills_and_Utilities_scaled','Food_and_Dining_scaled','Travel_scaled','Mortgage_and_Rent_scaled']]\n",
        "category_cluster.head()"
      ],
      "execution_count": 19,
      "outputs": [
        {
          "output_type": "execute_result",
          "data": {
            "text/html": [
              "<div>\n",
              "<style scoped>\n",
              "    .dataframe tbody tr th:only-of-type {\n",
              "        vertical-align: middle;\n",
              "    }\n",
              "\n",
              "    .dataframe tbody tr th {\n",
              "        vertical-align: top;\n",
              "    }\n",
              "\n",
              "    .dataframe thead th {\n",
              "        text-align: right;\n",
              "    }\n",
              "</style>\n",
              "<table border=\"1\" class=\"dataframe\">\n",
              "  <thead>\n",
              "    <tr style=\"text-align: right;\">\n",
              "      <th></th>\n",
              "      <th>age_encoded</th>\n",
              "      <th>totalIncome_scaled</th>\n",
              "      <th>balance_scaled</th>\n",
              "      <th>relationshipStatus_encoded</th>\n",
              "      <th>Bills_and_Utilities_scaled</th>\n",
              "      <th>Food_and_Dining_scaled</th>\n",
              "      <th>Travel_scaled</th>\n",
              "      <th>Mortgage_and_Rent_scaled</th>\n",
              "    </tr>\n",
              "  </thead>\n",
              "  <tbody>\n",
              "    <tr>\n",
              "      <th>0</th>\n",
              "      <td>19</td>\n",
              "      <td>-1.036073</td>\n",
              "      <td>-0.975635</td>\n",
              "      <td>3</td>\n",
              "      <td>-0.814138</td>\n",
              "      <td>-0.275179</td>\n",
              "      <td>-0.11093</td>\n",
              "      <td>-0.278796</td>\n",
              "    </tr>\n",
              "    <tr>\n",
              "      <th>1</th>\n",
              "      <td>28</td>\n",
              "      <td>0.107594</td>\n",
              "      <td>0.430486</td>\n",
              "      <td>1</td>\n",
              "      <td>0.724232</td>\n",
              "      <td>-0.275179</td>\n",
              "      <td>-0.11093</td>\n",
              "      <td>-0.278796</td>\n",
              "    </tr>\n",
              "    <tr>\n",
              "      <th>2</th>\n",
              "      <td>1</td>\n",
              "      <td>-1.036073</td>\n",
              "      <td>-0.971265</td>\n",
              "      <td>3</td>\n",
              "      <td>-0.814138</td>\n",
              "      <td>2.952720</td>\n",
              "      <td>-0.11093</td>\n",
              "      <td>-0.278796</td>\n",
              "    </tr>\n",
              "    <tr>\n",
              "      <th>3</th>\n",
              "      <td>22</td>\n",
              "      <td>0.241938</td>\n",
              "      <td>0.587223</td>\n",
              "      <td>1</td>\n",
              "      <td>-0.814138</td>\n",
              "      <td>-0.275179</td>\n",
              "      <td>-0.11093</td>\n",
              "      <td>-0.278796</td>\n",
              "    </tr>\n",
              "    <tr>\n",
              "      <th>4</th>\n",
              "      <td>22</td>\n",
              "      <td>-0.421608</td>\n",
              "      <td>-0.136524</td>\n",
              "      <td>3</td>\n",
              "      <td>-0.814138</td>\n",
              "      <td>-0.275179</td>\n",
              "      <td>-0.11093</td>\n",
              "      <td>-0.278796</td>\n",
              "    </tr>\n",
              "  </tbody>\n",
              "</table>\n",
              "</div>"
            ],
            "text/plain": [
              "   age_encoded  totalIncome_scaled  ...  Travel_scaled  Mortgage_and_Rent_scaled\n",
              "0           19           -1.036073  ...       -0.11093                 -0.278796\n",
              "1           28            0.107594  ...       -0.11093                 -0.278796\n",
              "2            1           -1.036073  ...       -0.11093                 -0.278796\n",
              "3           22            0.241938  ...       -0.11093                 -0.278796\n",
              "4           22           -0.421608  ...       -0.11093                 -0.278796\n",
              "\n",
              "[5 rows x 8 columns]"
            ]
          },
          "metadata": {
            "tags": []
          },
          "execution_count": 19
        }
      ]
    },
    {
      "cell_type": "markdown",
      "metadata": {
        "id": "18sK3YW4zbnK",
        "colab_type": "text"
      },
      "source": [
        "# K-Means approach\n",
        "Elbow method- to know optimum number of clusters.\n"
      ]
    },
    {
      "cell_type": "code",
      "metadata": {
        "id": "QBSxujXGdSC6",
        "colab_type": "code",
        "outputId": "52a007c7-c930-4a6a-e8fa-5edfe9f5d460",
        "colab": {
          "base_uri": "https://localhost:8080/",
          "height": 399
        }
      },
      "source": [
        "#find best number of cluster=elbow method\n",
        "# fitting multiple k-means algorithms and storing the values in an empty list\n",
        "SSE = []\n",
        "for cluster in range(1,10):\n",
        "    kmeans = KMeans(n_clusters = cluster, init='k-means++',max_iter=100, n_init=10, random_state=0)\n",
        "    kmeans.fit(category_cluster)\n",
        "    SSE.append(kmeans.inertia_)\n",
        "\n",
        "# converting the results into a dataframe and plotting them\n",
        "plt.figure(figsize=(12,6))\n",
        "plt.plot(range(1, 10), SSE)\n",
        "plt.xlabel('Number of clusters')\n",
        "plt.ylabel('Inertia')\n",
        "plt.show()\n"
      ],
      "execution_count": 20,
      "outputs": [
        {
          "output_type": "display_data",
          "data": {
            "image/png": "[encoded data removed]",
            "text/plain": [
              "<Figure size 864x432 with 1 Axes>"
            ]
          },
          "metadata": {
            "tags": []
          }
        }
      ]
    },
    {
      "cell_type": "code",
      "metadata": {
        "id": "tA5ykE4AdSBq",
        "colab_type": "code",
        "outputId": "930d95dd-eb0c-4bd9-a425-bc9beaa97899",
        "colab": {
          "base_uri": "https://localhost:8080/",
          "height": 156
        }
      },
      "source": [
        "kmeans = KMeans(n_clusters=4, max_iter=100,init=\"k-means++\",random_state=0)\n",
        "kmeans.fit(category_cluster)\n",
        "\n",
        "pred = kmeans.predict(category_cluster)\n",
        "category_cluster['cluster'] = pred\n",
        "kmeans.inertia_\n",
        "#category_cluster.head()"
      ],
      "execution_count": 21,
      "outputs": [
        {
          "output_type": "stream",
          "text": [
            "/usr/local/lib/python3.6/dist-packages/ipykernel_launcher.py:5: SettingWithCopyWarning: \n",
            "A value is trying to be set on a copy of a slice from a DataFrame.\n",
            "Try using .loc[row_indexer,col_indexer] = value instead\n",
            "\n",
            "See the caveats in the documentation: https://pandas.pydata.org/pandas-docs/stable/user_guide/indexing.html#returning-a-view-versus-a-copy\n",
            "  \"\"\"\n"
          ],
          "name": "stderr"
        },
        {
          "output_type": "execute_result",
          "data": {
            "text/plain": [
              "206088.04678379736"
            ]
          },
          "metadata": {
            "tags": []
          },
          "execution_count": 21
        }
      ]
    },
    {
      "cell_type": "code",
      "metadata": {
        "id": "Qt3ZxaRUirba",
        "colab_type": "code",
        "outputId": "9ba4911b-0325-4d82-ed91-41c8e12c85ff",
        "colab": {
          "base_uri": "https://localhost:8080/",
          "height": 224
        }
      },
      "source": [
        "# scaled vriables dropping and keeping only original information available about customers\n",
        "cluster_features_final = scaled_features.drop(['Unnamed: 0','id' ,'type','currencyAmount','Taxes_scaled','Mortgage_and_Rent_scaled','Income_scaled','Food_and_Dining_scaled',\n",
        "                                               'Bills_and_Utilities_scaled','balance_scaled','totalIncome_scaled','age_encoded',\n",
        "                                               'Home_scaled','Shopping_scaled','Travel_scaled','Auto_Transport_scaled','Transfer_scaled','Taxes_scaled','Entertainment_scaled'],axis=1)\n",
        "#adding results of clusters to customers\n",
        "cluster_features_final['cluster'] = pred\n",
        "cluster_features_final.head()\n"
      ],
      "execution_count": 22,
      "outputs": [
        {
          "output_type": "execute_result",
          "data": {
            "text/html": [
              "<div>\n",
              "<style scoped>\n",
              "    .dataframe tbody tr th:only-of-type {\n",
              "        vertical-align: middle;\n",
              "    }\n",
              "\n",
              "    .dataframe tbody tr th {\n",
              "        vertical-align: top;\n",
              "    }\n",
              "\n",
              "    .dataframe thead th {\n",
              "        text-align: right;\n",
              "    }\n",
              "</style>\n",
              "<table border=\"1\" class=\"dataframe\">\n",
              "  <thead>\n",
              "    <tr style=\"text-align: right;\">\n",
              "      <th></th>\n",
              "      <th>gender</th>\n",
              "      <th>totalIncome</th>\n",
              "      <th>relationshipStatus</th>\n",
              "      <th>balance</th>\n",
              "      <th>Income</th>\n",
              "      <th>Taxes</th>\n",
              "      <th>Transfer</th>\n",
              "      <th>Mortgage_and_Rent</th>\n",
              "      <th>Bills_and_Utilities</th>\n",
              "      <th>Entertainment</th>\n",
              "      <th>Fees_and_Charges</th>\n",
              "      <th>Home</th>\n",
              "      <th>Shopping</th>\n",
              "      <th>Food_and_Dining</th>\n",
              "      <th>Travel</th>\n",
              "      <th>Auto_and_Transport</th>\n",
              "      <th>Health_and_Fitness</th>\n",
              "      <th>Kids</th>\n",
              "      <th>age</th>\n",
              "      <th>gender_encoded</th>\n",
              "      <th>relationshipStatus_encoded</th>\n",
              "      <th>cluster</th>\n",
              "    </tr>\n",
              "  </thead>\n",
              "  <tbody>\n",
              "    <tr>\n",
              "      <th>0</th>\n",
              "      <td>Male</td>\n",
              "      <td>0.0</td>\n",
              "      <td>Single</td>\n",
              "      <td>0.00</td>\n",
              "      <td>0.00</td>\n",
              "      <td>0.0</td>\n",
              "      <td>8557.305</td>\n",
              "      <td>0.0</td>\n",
              "      <td>0.00</td>\n",
              "      <td>0.0</td>\n",
              "      <td>0.0</td>\n",
              "      <td>0.0</td>\n",
              "      <td>0.0</td>\n",
              "      <td>0.00</td>\n",
              "      <td>0.0</td>\n",
              "      <td>0.0</td>\n",
              "      <td>0.0</td>\n",
              "      <td>0.0</td>\n",
              "      <td>34</td>\n",
              "      <td>1</td>\n",
              "      <td>3</td>\n",
              "      <td>0</td>\n",
              "    </tr>\n",
              "    <tr>\n",
              "      <th>1</th>\n",
              "      <td>Female</td>\n",
              "      <td>40009.2</td>\n",
              "      <td>Married</td>\n",
              "      <td>39306.34</td>\n",
              "      <td>3077.64</td>\n",
              "      <td>0.0</td>\n",
              "      <td>1463.080</td>\n",
              "      <td>0.0</td>\n",
              "      <td>471.96</td>\n",
              "      <td>0.0</td>\n",
              "      <td>0.0</td>\n",
              "      <td>0.0</td>\n",
              "      <td>0.0</td>\n",
              "      <td>0.00</td>\n",
              "      <td>0.0</td>\n",
              "      <td>0.0</td>\n",
              "      <td>0.0</td>\n",
              "      <td>0.0</td>\n",
              "      <td>43</td>\n",
              "      <td>0</td>\n",
              "      <td>1</td>\n",
              "      <td>0</td>\n",
              "    </tr>\n",
              "    <tr>\n",
              "      <th>2</th>\n",
              "      <td>Female</td>\n",
              "      <td>0.0</td>\n",
              "      <td>Single</td>\n",
              "      <td>122.16</td>\n",
              "      <td>0.00</td>\n",
              "      <td>0.0</td>\n",
              "      <td>1447.042</td>\n",
              "      <td>0.0</td>\n",
              "      <td>0.00</td>\n",
              "      <td>0.0</td>\n",
              "      <td>0.0</td>\n",
              "      <td>0.0</td>\n",
              "      <td>66.3</td>\n",
              "      <td>134.43</td>\n",
              "      <td>0.0</td>\n",
              "      <td>0.0</td>\n",
              "      <td>0.0</td>\n",
              "      <td>0.0</td>\n",
              "      <td>16</td>\n",
              "      <td>0</td>\n",
              "      <td>3</td>\n",
              "      <td>2</td>\n",
              "    </tr>\n",
              "    <tr>\n",
              "      <th>3</th>\n",
              "      <td>Other</td>\n",
              "      <td>44709.0</td>\n",
              "      <td>Married</td>\n",
              "      <td>43687.72</td>\n",
              "      <td>6878.32</td>\n",
              "      <td>0.0</td>\n",
              "      <td>19114.440</td>\n",
              "      <td>0.0</td>\n",
              "      <td>0.00</td>\n",
              "      <td>0.0</td>\n",
              "      <td>0.0</td>\n",
              "      <td>0.0</td>\n",
              "      <td>0.0</td>\n",
              "      <td>0.00</td>\n",
              "      <td>0.0</td>\n",
              "      <td>0.0</td>\n",
              "      <td>0.0</td>\n",
              "      <td>0.0</td>\n",
              "      <td>37</td>\n",
              "      <td>2</td>\n",
              "      <td>1</td>\n",
              "      <td>0</td>\n",
              "    </tr>\n",
              "    <tr>\n",
              "      <th>4</th>\n",
              "      <td>Male</td>\n",
              "      <td>21496.0</td>\n",
              "      <td>Single</td>\n",
              "      <td>23456.30</td>\n",
              "      <td>4133.85</td>\n",
              "      <td>0.0</td>\n",
              "      <td>1170.680</td>\n",
              "      <td>0.0</td>\n",
              "      <td>0.00</td>\n",
              "      <td>0.0</td>\n",
              "      <td>0.0</td>\n",
              "      <td>0.0</td>\n",
              "      <td>0.0</td>\n",
              "      <td>0.00</td>\n",
              "      <td>0.0</td>\n",
              "      <td>0.0</td>\n",
              "      <td>0.0</td>\n",
              "      <td>0.0</td>\n",
              "      <td>37</td>\n",
              "      <td>1</td>\n",
              "      <td>3</td>\n",
              "      <td>0</td>\n",
              "    </tr>\n",
              "  </tbody>\n",
              "</table>\n",
              "</div>"
            ],
            "text/plain": [
              "   gender  totalIncome  ... relationshipStatus_encoded  cluster\n",
              "0    Male          0.0  ...                          3        0\n",
              "1  Female      40009.2  ...                          1        0\n",
              "2  Female          0.0  ...                          3        2\n",
              "3   Other      44709.0  ...                          1        0\n",
              "4    Male      21496.0  ...                          3        0\n",
              "\n",
              "[5 rows x 22 columns]"
            ]
          },
          "metadata": {
            "tags": []
          },
          "execution_count": 22
        }
      ]
    },
    {
      "cell_type": "markdown",
      "metadata": {
        "id": "nRsTXLGg1c5C",
        "colab_type": "text"
      },
      "source": [
        "# Exploring Clusters"
      ]
    },
    {
      "cell_type": "code",
      "metadata": {
        "id": "_yMZK0-NESgK",
        "colab_type": "code",
        "outputId": "f05e49ca-3082-4304-ee88-fb6a282af544",
        "colab": {
          "base_uri": "https://localhost:8080/",
          "height": 224
        }
      },
      "source": [
        "cluster_features_group=cluster_features_final.groupby('cluster').mean()\n",
        "cluster_features_group"
      ],
      "execution_count": 23,
      "outputs": [
        {
          "output_type": "execute_result",
          "data": {
            "text/html": [
              "<div>\n",
              "<style scoped>\n",
              "    .dataframe tbody tr th:only-of-type {\n",
              "        vertical-align: middle;\n",
              "    }\n",
              "\n",
              "    .dataframe tbody tr th {\n",
              "        vertical-align: top;\n",
              "    }\n",
              "\n",
              "    .dataframe thead th {\n",
              "        text-align: right;\n",
              "    }\n",
              "</style>\n",
              "<table border=\"1\" class=\"dataframe\">\n",
              "  <thead>\n",
              "    <tr style=\"text-align: right;\">\n",
              "      <th></th>\n",
              "      <th>totalIncome</th>\n",
              "      <th>balance</th>\n",
              "      <th>Income</th>\n",
              "      <th>Taxes</th>\n",
              "      <th>Transfer</th>\n",
              "      <th>Mortgage_and_Rent</th>\n",
              "      <th>Bills_and_Utilities</th>\n",
              "      <th>Entertainment</th>\n",
              "      <th>Fees_and_Charges</th>\n",
              "      <th>Home</th>\n",
              "      <th>Shopping</th>\n",
              "      <th>Food_and_Dining</th>\n",
              "      <th>Travel</th>\n",
              "      <th>Auto_and_Transport</th>\n",
              "      <th>Health_and_Fitness</th>\n",
              "      <th>Kids</th>\n",
              "      <th>age</th>\n",
              "      <th>gender_encoded</th>\n",
              "      <th>relationshipStatus_encoded</th>\n",
              "    </tr>\n",
              "    <tr>\n",
              "      <th>cluster</th>\n",
              "      <th></th>\n",
              "      <th></th>\n",
              "      <th></th>\n",
              "      <th></th>\n",
              "      <th></th>\n",
              "      <th></th>\n",
              "      <th></th>\n",
              "      <th></th>\n",
              "      <th></th>\n",
              "      <th></th>\n",
              "      <th></th>\n",
              "      <th></th>\n",
              "      <th></th>\n",
              "      <th></th>\n",
              "      <th></th>\n",
              "      <th></th>\n",
              "      <th></th>\n",
              "      <th></th>\n",
              "      <th></th>\n",
              "    </tr>\n",
              "  </thead>\n",
              "  <tbody>\n",
              "    <tr>\n",
              "      <th>0</th>\n",
              "      <td>48154.066913</td>\n",
              "      <td>37912.908182</td>\n",
              "      <td>7315.569181</td>\n",
              "      <td>1599.689316</td>\n",
              "      <td>6498.433067</td>\n",
              "      <td>459.283426</td>\n",
              "      <td>256.887905</td>\n",
              "      <td>4.324991</td>\n",
              "      <td>0.0</td>\n",
              "      <td>30.062908</td>\n",
              "      <td>13.011639</td>\n",
              "      <td>0.000000</td>\n",
              "      <td>43.881577</td>\n",
              "      <td>0.000000</td>\n",
              "      <td>0.00000</td>\n",
              "      <td>0.000000</td>\n",
              "      <td>42.300062</td>\n",
              "      <td>0.642637</td>\n",
              "      <td>1.508934</td>\n",
              "    </tr>\n",
              "    <tr>\n",
              "      <th>1</th>\n",
              "      <td>48638.206445</td>\n",
              "      <td>34882.985885</td>\n",
              "      <td>7138.539717</td>\n",
              "      <td>1455.766133</td>\n",
              "      <td>6249.596402</td>\n",
              "      <td>582.684136</td>\n",
              "      <td>302.414157</td>\n",
              "      <td>4.603045</td>\n",
              "      <td>0.0</td>\n",
              "      <td>40.852585</td>\n",
              "      <td>14.135305</td>\n",
              "      <td>0.000000</td>\n",
              "      <td>31.586962</td>\n",
              "      <td>0.000000</td>\n",
              "      <td>0.00000</td>\n",
              "      <td>0.000000</td>\n",
              "      <td>60.299575</td>\n",
              "      <td>0.652266</td>\n",
              "      <td>1.288952</td>\n",
              "    </tr>\n",
              "    <tr>\n",
              "      <th>2</th>\n",
              "      <td>12734.190200</td>\n",
              "      <td>12079.886628</td>\n",
              "      <td>2794.304878</td>\n",
              "      <td>543.345541</td>\n",
              "      <td>3083.340142</td>\n",
              "      <td>254.256987</td>\n",
              "      <td>150.546373</td>\n",
              "      <td>0.577770</td>\n",
              "      <td>0.0</td>\n",
              "      <td>3.225851</td>\n",
              "      <td>19.156446</td>\n",
              "      <td>38.154228</td>\n",
              "      <td>7.095322</td>\n",
              "      <td>0.557108</td>\n",
              "      <td>0.14432</td>\n",
              "      <td>0.202874</td>\n",
              "      <td>25.216889</td>\n",
              "      <td>0.575334</td>\n",
              "      <td>2.682868</td>\n",
              "    </tr>\n",
              "    <tr>\n",
              "      <th>3</th>\n",
              "      <td>38588.441740</td>\n",
              "      <td>23508.365707</td>\n",
              "      <td>4790.315207</td>\n",
              "      <td>1281.943442</td>\n",
              "      <td>5789.895992</td>\n",
              "      <td>637.081352</td>\n",
              "      <td>346.695019</td>\n",
              "      <td>1.952290</td>\n",
              "      <td>0.0</td>\n",
              "      <td>18.589199</td>\n",
              "      <td>9.194781</td>\n",
              "      <td>0.000000</td>\n",
              "      <td>10.377509</td>\n",
              "      <td>0.000000</td>\n",
              "      <td>0.00000</td>\n",
              "      <td>0.000000</td>\n",
              "      <td>80.483104</td>\n",
              "      <td>0.605757</td>\n",
              "      <td>1.966208</td>\n",
              "    </tr>\n",
              "  </tbody>\n",
              "</table>\n",
              "</div>"
            ],
            "text/plain": [
              "          totalIncome       balance  ...  gender_encoded  relationshipStatus_encoded\n",
              "cluster                              ...                                            \n",
              "0        48154.066913  37912.908182  ...        0.642637                    1.508934\n",
              "1        48638.206445  34882.985885  ...        0.652266                    1.288952\n",
              "2        12734.190200  12079.886628  ...        0.575334                    2.682868\n",
              "3        38588.441740  23508.365707  ...        0.605757                    1.966208\n",
              "\n",
              "[4 rows x 19 columns]"
            ]
          },
          "metadata": {
            "tags": []
          },
          "execution_count": 23
        }
      ]
    },
    {
      "cell_type": "code",
      "metadata": {
        "id": "0CfddG7ZQDhw",
        "colab_type": "code",
        "outputId": "9aaf2cb2-bc81-4d16-b5d2-a68e77bbd3d7",
        "colab": {
          "base_uri": "https://localhost:8080/",
          "height": 417
        }
      },
      "source": [
        "cluster_features_group.iloc[0:,7:-3].plot.bar(figsize=(20,8),rot=0,legend=True)\n"
      ],
      "execution_count": 24,
      "outputs": [
        {
          "output_type": "execute_result",
          "data": {
            "text/plain": [
              "<matplotlib.axes._subplots.AxesSubplot at 0x7f8b15ec0e48>"
            ]
          },
          "metadata": {
            "tags": []
          },
          "execution_count": 24
        },
        {
          "output_type": "display_data",
          "data": {
            "image/png": "[encoded data removed]",
            "text/plain": [
              "<Figure size 1440x576 with 1 Axes>"
            ]
          },
          "metadata": {
            "tags": []
          }
        }
      ]
    },
    {
      "cell_type": "code",
      "metadata": {
        "id": "mcVcnfn0QDVd",
        "colab_type": "code",
        "outputId": "47f4a7e9-520b-42a3-b71b-c929b2619490",
        "colab": {
          "base_uri": "https://localhost:8080/",
          "height": 571
        }
      },
      "source": [
        "gender_data = cluster_features_final.groupby(['cluster','gender_encoded'])['gender_encoded'].sum().unstack('gender_encoded')#.fillna(0).sort_values(by=0,ascending=False)\n",
        "gender_data.plot.bar(figsize=(8, 6))\n",
        "gender_data\n",
        "# 0-other,1-female,2-male"
      ],
      "execution_count": 25,
      "outputs": [
        {
          "output_type": "execute_result",
          "data": {
            "text/html": [
              "<div>\n",
              "<style scoped>\n",
              "    .dataframe tbody tr th:only-of-type {\n",
              "        vertical-align: middle;\n",
              "    }\n",
              "\n",
              "    .dataframe tbody tr th {\n",
              "        vertical-align: top;\n",
              "    }\n",
              "\n",
              "    .dataframe thead th {\n",
              "        text-align: right;\n",
              "    }\n",
              "</style>\n",
              "<table border=\"1\" class=\"dataframe\">\n",
              "  <thead>\n",
              "    <tr style=\"text-align: right;\">\n",
              "      <th>gender_encoded</th>\n",
              "      <th>0</th>\n",
              "      <th>1</th>\n",
              "      <th>2</th>\n",
              "    </tr>\n",
              "    <tr>\n",
              "      <th>cluster</th>\n",
              "      <th></th>\n",
              "      <th></th>\n",
              "      <th></th>\n",
              "    </tr>\n",
              "  </thead>\n",
              "  <tbody>\n",
              "    <tr>\n",
              "      <th>0</th>\n",
              "      <td>0</td>\n",
              "      <td>671</td>\n",
              "      <td>372</td>\n",
              "    </tr>\n",
              "    <tr>\n",
              "      <th>1</th>\n",
              "      <td>0</td>\n",
              "      <td>611</td>\n",
              "      <td>310</td>\n",
              "    </tr>\n",
              "    <tr>\n",
              "      <th>2</th>\n",
              "      <td>0</td>\n",
              "      <td>723</td>\n",
              "      <td>224</td>\n",
              "    </tr>\n",
              "    <tr>\n",
              "      <th>3</th>\n",
              "      <td>0</td>\n",
              "      <td>302</td>\n",
              "      <td>182</td>\n",
              "    </tr>\n",
              "  </tbody>\n",
              "</table>\n",
              "</div>"
            ],
            "text/plain": [
              "gender_encoded  0    1    2\n",
              "cluster                    \n",
              "0               0  671  372\n",
              "1               0  611  310\n",
              "2               0  723  224\n",
              "3               0  302  182"
            ]
          },
          "metadata": {
            "tags": []
          },
          "execution_count": 25
        },
        {
          "output_type": "display_data",
          "data": {
            "image/png": "[encoded data removed]",
            "text/plain": [
              "<Figure size 576x432 with 1 Axes>"
            ]
          },
          "metadata": {
            "tags": []
          }
        }
      ]
    },
    {
      "cell_type": "code",
      "metadata": {
        "id": "9pqL4Qig7dk-",
        "colab_type": "code",
        "outputId": "3247a337-1b5e-484f-8771-aabf85e5fbe2",
        "colab": {
          "base_uri": "https://localhost:8080/",
          "height": 571
        }
      },
      "source": [
        "relationship_data = cluster_features_final.groupby(['cluster','relationshipStatus_encoded'])['relationshipStatus_encoded'].sum().unstack('relationshipStatus_encoded')#.fillna(0).sort_values(by=0,ascending=False)\n",
        "relationship_data.plot.bar(figsize=(8, 6))\n",
        "relationship_data\n",
        "# 0-Divorced , 1-Married,2-Separated,3-Single,4-Widowed"
      ],
      "execution_count": 26,
      "outputs": [
        {
          "output_type": "execute_result",
          "data": {
            "text/html": [
              "<div>\n",
              "<style scoped>\n",
              "    .dataframe tbody tr th:only-of-type {\n",
              "        vertical-align: middle;\n",
              "    }\n",
              "\n",
              "    .dataframe tbody tr th {\n",
              "        vertical-align: top;\n",
              "    }\n",
              "\n",
              "    .dataframe thead th {\n",
              "        text-align: right;\n",
              "    }\n",
              "</style>\n",
              "<table border=\"1\" class=\"dataframe\">\n",
              "  <thead>\n",
              "    <tr style=\"text-align: right;\">\n",
              "      <th>relationshipStatus_encoded</th>\n",
              "      <th>0</th>\n",
              "      <th>1</th>\n",
              "      <th>2</th>\n",
              "      <th>3</th>\n",
              "      <th>4</th>\n",
              "    </tr>\n",
              "    <tr>\n",
              "      <th>cluster</th>\n",
              "      <th></th>\n",
              "      <th></th>\n",
              "      <th></th>\n",
              "      <th></th>\n",
              "      <th></th>\n",
              "    </tr>\n",
              "  </thead>\n",
              "  <tbody>\n",
              "    <tr>\n",
              "      <th>0</th>\n",
              "      <td>0.0</td>\n",
              "      <td>912.0</td>\n",
              "      <td>210.0</td>\n",
              "      <td>1287.0</td>\n",
              "      <td>40.0</td>\n",
              "    </tr>\n",
              "    <tr>\n",
              "      <th>1</th>\n",
              "      <td>0.0</td>\n",
              "      <td>874.0</td>\n",
              "      <td>164.0</td>\n",
              "      <td>474.0</td>\n",
              "      <td>308.0</td>\n",
              "    </tr>\n",
              "    <tr>\n",
              "      <th>2</th>\n",
              "      <td>0.0</td>\n",
              "      <td>235.0</td>\n",
              "      <td>20.0</td>\n",
              "      <td>4161.0</td>\n",
              "      <td>NaN</td>\n",
              "    </tr>\n",
              "    <tr>\n",
              "      <th>3</th>\n",
              "      <td>0.0</td>\n",
              "      <td>450.0</td>\n",
              "      <td>26.0</td>\n",
              "      <td>111.0</td>\n",
              "      <td>984.0</td>\n",
              "    </tr>\n",
              "  </tbody>\n",
              "</table>\n",
              "</div>"
            ],
            "text/plain": [
              "relationshipStatus_encoded    0      1      2       3      4\n",
              "cluster                                                     \n",
              "0                           0.0  912.0  210.0  1287.0   40.0\n",
              "1                           0.0  874.0  164.0   474.0  308.0\n",
              "2                           0.0  235.0   20.0  4161.0    NaN\n",
              "3                           0.0  450.0   26.0   111.0  984.0"
            ]
          },
          "metadata": {
            "tags": []
          },
          "execution_count": 26
        },
        {
          "output_type": "display_data",
          "data": {
            "image/png": "[encoded data removed]",
            "text/plain": [
              "<Figure size 576x432 with 1 Axes>"
            ]
          },
          "metadata": {
            "tags": []
          }
        }
      ]
    },
    {
      "cell_type": "markdown",
      "metadata": {
        "id": "SS440jQpDWCK",
        "colab_type": "text"
      },
      "source": [
        "# Cluster 0(N=1623 )\n",
        "* The middle aged persons are in this category i.e. median age 42 yeras old.\n",
        "* The singles relationshipstatus are dominating. \n",
        "* The gender wise females are dominating in this group. \n",
        "* These customers have high spending in Bills and utilities(75%ile=444 dollars).\n",
        "* These customers have high balances and income.\n",
        "*These customers does not spend across food and dining with 75%ile spending 0 dollars (this could be an issue in the dataset too but we will assume that this group is not active in dining).\n",
        "* These cutomers have used transfer money service significantly."
      ]
    },
    {
      "cell_type": "code",
      "metadata": {
        "id": "e9HAyNysdRyG",
        "colab_type": "code",
        "outputId": "fad5ca95-e2ac-490c-b518-3a8797847ac1",
        "colab": {
          "base_uri": "https://localhost:8080/",
          "height": 317
        }
      },
      "source": [
        "cluster_0=cluster_features_final.loc[cluster_features_final['cluster'] == 0].describe()\n",
        "cluster_0"
      ],
      "execution_count": 27,
      "outputs": [
        {
          "output_type": "execute_result",
          "data": {
            "text/html": [
              "<div>\n",
              "<style scoped>\n",
              "    .dataframe tbody tr th:only-of-type {\n",
              "        vertical-align: middle;\n",
              "    }\n",
              "\n",
              "    .dataframe tbody tr th {\n",
              "        vertical-align: top;\n",
              "    }\n",
              "\n",
              "    .dataframe thead th {\n",
              "        text-align: right;\n",
              "    }\n",
              "</style>\n",
              "<table border=\"1\" class=\"dataframe\">\n",
              "  <thead>\n",
              "    <tr style=\"text-align: right;\">\n",
              "      <th></th>\n",
              "      <th>totalIncome</th>\n",
              "      <th>balance</th>\n",
              "      <th>Income</th>\n",
              "      <th>Taxes</th>\n",
              "      <th>Transfer</th>\n",
              "      <th>Mortgage_and_Rent</th>\n",
              "      <th>Bills_and_Utilities</th>\n",
              "      <th>Entertainment</th>\n",
              "      <th>Fees_and_Charges</th>\n",
              "      <th>Home</th>\n",
              "      <th>Shopping</th>\n",
              "      <th>Food_and_Dining</th>\n",
              "      <th>Travel</th>\n",
              "      <th>Auto_and_Transport</th>\n",
              "      <th>Health_and_Fitness</th>\n",
              "      <th>Kids</th>\n",
              "      <th>age</th>\n",
              "      <th>gender_encoded</th>\n",
              "      <th>relationshipStatus_encoded</th>\n",
              "      <th>cluster</th>\n",
              "    </tr>\n",
              "  </thead>\n",
              "  <tbody>\n",
              "    <tr>\n",
              "      <th>count</th>\n",
              "      <td>1623.000000</td>\n",
              "      <td>1623.000000</td>\n",
              "      <td>1623.000000</td>\n",
              "      <td>1623.000000</td>\n",
              "      <td>1623.000000</td>\n",
              "      <td>1623.000000</td>\n",
              "      <td>1623.000000</td>\n",
              "      <td>1623.000000</td>\n",
              "      <td>1623.0</td>\n",
              "      <td>1623.000000</td>\n",
              "      <td>1623.000000</td>\n",
              "      <td>1623.0</td>\n",
              "      <td>1623.000000</td>\n",
              "      <td>1623.0</td>\n",
              "      <td>1623.0</td>\n",
              "      <td>1623.0</td>\n",
              "      <td>1623.000000</td>\n",
              "      <td>1623.000000</td>\n",
              "      <td>1623.000000</td>\n",
              "      <td>1623.0</td>\n",
              "    </tr>\n",
              "    <tr>\n",
              "      <th>mean</th>\n",
              "      <td>48154.066913</td>\n",
              "      <td>37912.908182</td>\n",
              "      <td>7315.569181</td>\n",
              "      <td>1599.689316</td>\n",
              "      <td>6498.433067</td>\n",
              "      <td>459.283426</td>\n",
              "      <td>256.887905</td>\n",
              "      <td>4.324991</td>\n",
              "      <td>0.0</td>\n",
              "      <td>30.062908</td>\n",
              "      <td>13.011639</td>\n",
              "      <td>0.0</td>\n",
              "      <td>43.881577</td>\n",
              "      <td>0.0</td>\n",
              "      <td>0.0</td>\n",
              "      <td>0.0</td>\n",
              "      <td>42.300062</td>\n",
              "      <td>0.642637</td>\n",
              "      <td>1.508934</td>\n",
              "      <td>0.0</td>\n",
              "    </tr>\n",
              "    <tr>\n",
              "      <th>std</th>\n",
              "      <td>38400.435466</td>\n",
              "      <td>32809.422766</td>\n",
              "      <td>9980.615522</td>\n",
              "      <td>6895.425229</td>\n",
              "      <td>10304.020818</td>\n",
              "      <td>1627.374227</td>\n",
              "      <td>303.282878</td>\n",
              "      <td>23.320272</td>\n",
              "      <td>0.0</td>\n",
              "      <td>122.258390</td>\n",
              "      <td>42.873833</td>\n",
              "      <td>0.0</td>\n",
              "      <td>293.850851</td>\n",
              "      <td>0.0</td>\n",
              "      <td>0.0</td>\n",
              "      <td>0.0</td>\n",
              "      <td>5.357668</td>\n",
              "      <td>0.677601</td>\n",
              "      <td>1.010921</td>\n",
              "      <td>0.0</td>\n",
              "    </tr>\n",
              "    <tr>\n",
              "      <th>min</th>\n",
              "      <td>0.000000</td>\n",
              "      <td>-23735.270000</td>\n",
              "      <td>0.000000</td>\n",
              "      <td>0.000000</td>\n",
              "      <td>0.000000</td>\n",
              "      <td>0.000000</td>\n",
              "      <td>0.000000</td>\n",
              "      <td>0.000000</td>\n",
              "      <td>0.0</td>\n",
              "      <td>0.000000</td>\n",
              "      <td>0.000000</td>\n",
              "      <td>0.0</td>\n",
              "      <td>0.000000</td>\n",
              "      <td>0.0</td>\n",
              "      <td>0.0</td>\n",
              "      <td>0.0</td>\n",
              "      <td>33.000000</td>\n",
              "      <td>0.000000</td>\n",
              "      <td>0.000000</td>\n",
              "      <td>0.0</td>\n",
              "    </tr>\n",
              "    <tr>\n",
              "      <th>25%</th>\n",
              "      <td>26240.200000</td>\n",
              "      <td>18890.660000</td>\n",
              "      <td>1811.025000</td>\n",
              "      <td>0.000000</td>\n",
              "      <td>1244.895000</td>\n",
              "      <td>0.000000</td>\n",
              "      <td>0.000000</td>\n",
              "      <td>0.000000</td>\n",
              "      <td>0.0</td>\n",
              "      <td>0.000000</td>\n",
              "      <td>0.000000</td>\n",
              "      <td>0.0</td>\n",
              "      <td>0.000000</td>\n",
              "      <td>0.0</td>\n",
              "      <td>0.0</td>\n",
              "      <td>0.0</td>\n",
              "      <td>38.000000</td>\n",
              "      <td>0.000000</td>\n",
              "      <td>1.000000</td>\n",
              "      <td>0.0</td>\n",
              "    </tr>\n",
              "    <tr>\n",
              "      <th>50%</th>\n",
              "      <td>39260.000000</td>\n",
              "      <td>31226.090000</td>\n",
              "      <td>4840.000000</td>\n",
              "      <td>0.000000</td>\n",
              "      <td>3056.560000</td>\n",
              "      <td>0.000000</td>\n",
              "      <td>158.590000</td>\n",
              "      <td>0.000000</td>\n",
              "      <td>0.0</td>\n",
              "      <td>0.000000</td>\n",
              "      <td>0.000000</td>\n",
              "      <td>0.0</td>\n",
              "      <td>0.000000</td>\n",
              "      <td>0.0</td>\n",
              "      <td>0.0</td>\n",
              "      <td>0.0</td>\n",
              "      <td>42.000000</td>\n",
              "      <td>1.000000</td>\n",
              "      <td>1.000000</td>\n",
              "      <td>0.0</td>\n",
              "    </tr>\n",
              "    <tr>\n",
              "      <th>75%</th>\n",
              "      <td>60581.950000</td>\n",
              "      <td>47753.010000</td>\n",
              "      <td>8902.860000</td>\n",
              "      <td>272.000000</td>\n",
              "      <td>6618.280000</td>\n",
              "      <td>0.000000</td>\n",
              "      <td>444.780000</td>\n",
              "      <td>0.000000</td>\n",
              "      <td>0.0</td>\n",
              "      <td>0.000000</td>\n",
              "      <td>0.000000</td>\n",
              "      <td>0.0</td>\n",
              "      <td>0.000000</td>\n",
              "      <td>0.0</td>\n",
              "      <td>0.0</td>\n",
              "      <td>0.0</td>\n",
              "      <td>47.000000</td>\n",
              "      <td>1.000000</td>\n",
              "      <td>3.000000</td>\n",
              "      <td>0.0</td>\n",
              "    </tr>\n",
              "    <tr>\n",
              "      <th>max</th>\n",
              "      <td>365126.300000</td>\n",
              "      <td>395333.800000</td>\n",
              "      <td>188688.160000</td>\n",
              "      <td>136805.200000</td>\n",
              "      <td>132377.760000</td>\n",
              "      <td>13390.000000</td>\n",
              "      <td>1813.490000</td>\n",
              "      <td>129.990000</td>\n",
              "      <td>0.0</td>\n",
              "      <td>1261.870000</td>\n",
              "      <td>307.170000</td>\n",
              "      <td>0.0</td>\n",
              "      <td>3968.490000</td>\n",
              "      <td>0.0</td>\n",
              "      <td>0.0</td>\n",
              "      <td>0.0</td>\n",
              "      <td>51.000000</td>\n",
              "      <td>2.000000</td>\n",
              "      <td>4.000000</td>\n",
              "      <td>0.0</td>\n",
              "    </tr>\n",
              "  </tbody>\n",
              "</table>\n",
              "</div>"
            ],
            "text/plain": [
              "         totalIncome        balance  ...  relationshipStatus_encoded  cluster\n",
              "count    1623.000000    1623.000000  ...                 1623.000000   1623.0\n",
              "mean    48154.066913   37912.908182  ...                    1.508934      0.0\n",
              "std     38400.435466   32809.422766  ...                    1.010921      0.0\n",
              "min         0.000000  -23735.270000  ...                    0.000000      0.0\n",
              "25%     26240.200000   18890.660000  ...                    1.000000      0.0\n",
              "50%     39260.000000   31226.090000  ...                    1.000000      0.0\n",
              "75%     60581.950000   47753.010000  ...                    3.000000      0.0\n",
              "max    365126.300000  395333.800000  ...                    4.000000      0.0\n",
              "\n",
              "[8 rows x 20 columns]"
            ]
          },
          "metadata": {
            "tags": []
          },
          "execution_count": 27
        }
      ]
    },
    {
      "cell_type": "code",
      "metadata": {
        "id": "2YcdzB0hUzkY",
        "colab_type": "code",
        "outputId": "4ea5226a-b3fe-45e8-dd3e-d959202329ca",
        "colab": {
          "base_uri": "https://localhost:8080/",
          "height": 488
        }
      },
      "source": [
        "cluster_0.iloc[1:7,5:-4].plot.bar(figsize=(20,10),rot=0,legend=True)\n"
      ],
      "execution_count": 28,
      "outputs": [
        {
          "output_type": "execute_result",
          "data": {
            "text/plain": [
              "<matplotlib.axes._subplots.AxesSubplot at 0x7f8b18e022b0>"
            ]
          },
          "metadata": {
            "tags": []
          },
          "execution_count": 28
        },
        {
          "output_type": "display_data",
          "data": {
            "image/png": "[encoded data removed]",
            "text/plain": [
              "<Figure size 1440x720 with 1 Axes>"
            ]
          },
          "metadata": {
            "tags": []
          }
        }
      ]
    },
    {
      "cell_type": "code",
      "metadata": {
        "id": "yiUPRW4aKl2s",
        "colab_type": "code",
        "colab": {}
      },
      "source": [
        ""
      ],
      "execution_count": 0,
      "outputs": []
    },
    {
      "cell_type": "markdown",
      "metadata": {
        "id": "XXmTDYtGKm7t",
        "colab_type": "text"
      },
      "source": [
        "# cluster 1(N=1412)\n",
        "\n",
        "* Majority of the people in this cluster are in middle age or are seniors i.e. median age 60 years old \n",
        "*  The majority of customers having married relationshipstatus. \n",
        "* The gender wise females are dominating in this group. \n",
        "* These customers have high spending in Bills and utilities(75%ile=511 dollars).\n",
        "* These customers have high totalincome.\n",
        "* These cutomers have used transfer money service significantly.\n",
        "\n"
      ]
    },
    {
      "cell_type": "code",
      "metadata": {
        "id": "PbNOlRy_HOUG",
        "colab_type": "code",
        "outputId": "c5321ce2-b1e1-41bb-b4cd-0ff5c57eaabb",
        "colab": {
          "base_uri": "https://localhost:8080/",
          "height": 317
        }
      },
      "source": [
        "cluster_1=cluster_features_final.loc[cluster_features_final['cluster'] ==1] .describe()\n",
        "cluster_1\n"
      ],
      "execution_count": 29,
      "outputs": [
        {
          "output_type": "execute_result",
          "data": {
            "text/html": [
              "<div>\n",
              "<style scoped>\n",
              "    .dataframe tbody tr th:only-of-type {\n",
              "        vertical-align: middle;\n",
              "    }\n",
              "\n",
              "    .dataframe tbody tr th {\n",
              "        vertical-align: top;\n",
              "    }\n",
              "\n",
              "    .dataframe thead th {\n",
              "        text-align: right;\n",
              "    }\n",
              "</style>\n",
              "<table border=\"1\" class=\"dataframe\">\n",
              "  <thead>\n",
              "    <tr style=\"text-align: right;\">\n",
              "      <th></th>\n",
              "      <th>totalIncome</th>\n",
              "      <th>balance</th>\n",
              "      <th>Income</th>\n",
              "      <th>Taxes</th>\n",
              "      <th>Transfer</th>\n",
              "      <th>Mortgage_and_Rent</th>\n",
              "      <th>Bills_and_Utilities</th>\n",
              "      <th>Entertainment</th>\n",
              "      <th>Fees_and_Charges</th>\n",
              "      <th>Home</th>\n",
              "      <th>Shopping</th>\n",
              "      <th>Food_and_Dining</th>\n",
              "      <th>Travel</th>\n",
              "      <th>Auto_and_Transport</th>\n",
              "      <th>Health_and_Fitness</th>\n",
              "      <th>Kids</th>\n",
              "      <th>age</th>\n",
              "      <th>gender_encoded</th>\n",
              "      <th>relationshipStatus_encoded</th>\n",
              "      <th>cluster</th>\n",
              "    </tr>\n",
              "  </thead>\n",
              "  <tbody>\n",
              "    <tr>\n",
              "      <th>count</th>\n",
              "      <td>1412.000000</td>\n",
              "      <td>1412.000000</td>\n",
              "      <td>1412.000000</td>\n",
              "      <td>1412.000000</td>\n",
              "      <td>1412.000000</td>\n",
              "      <td>1412.000000</td>\n",
              "      <td>1412.000000</td>\n",
              "      <td>1412.000000</td>\n",
              "      <td>1412.0</td>\n",
              "      <td>1412.000000</td>\n",
              "      <td>1412.000000</td>\n",
              "      <td>1412.0</td>\n",
              "      <td>1412.000000</td>\n",
              "      <td>1412.0</td>\n",
              "      <td>1412.0</td>\n",
              "      <td>1412.0</td>\n",
              "      <td>1412.000000</td>\n",
              "      <td>1412.000000</td>\n",
              "      <td>1412.000000</td>\n",
              "      <td>1412.0</td>\n",
              "    </tr>\n",
              "    <tr>\n",
              "      <th>mean</th>\n",
              "      <td>48638.206445</td>\n",
              "      <td>34882.985885</td>\n",
              "      <td>7138.539717</td>\n",
              "      <td>1455.766133</td>\n",
              "      <td>6249.596402</td>\n",
              "      <td>582.684136</td>\n",
              "      <td>302.414157</td>\n",
              "      <td>4.603045</td>\n",
              "      <td>0.0</td>\n",
              "      <td>40.852585</td>\n",
              "      <td>14.135305</td>\n",
              "      <td>0.0</td>\n",
              "      <td>31.586962</td>\n",
              "      <td>0.0</td>\n",
              "      <td>0.0</td>\n",
              "      <td>0.0</td>\n",
              "      <td>60.299575</td>\n",
              "      <td>0.652266</td>\n",
              "      <td>1.288952</td>\n",
              "      <td>1.0</td>\n",
              "    </tr>\n",
              "    <tr>\n",
              "      <th>std</th>\n",
              "      <td>36606.604801</td>\n",
              "      <td>28959.309325</td>\n",
              "      <td>9743.513720</td>\n",
              "      <td>4655.406691</td>\n",
              "      <td>9525.948735</td>\n",
              "      <td>1770.152422</td>\n",
              "      <td>318.018141</td>\n",
              "      <td>24.032704</td>\n",
              "      <td>0.0</td>\n",
              "      <td>153.889796</td>\n",
              "      <td>43.064225</td>\n",
              "      <td>0.0</td>\n",
              "      <td>252.917938</td>\n",
              "      <td>0.0</td>\n",
              "      <td>0.0</td>\n",
              "      <td>0.0</td>\n",
              "      <td>5.275693</td>\n",
              "      <td>0.668340</td>\n",
              "      <td>1.034524</td>\n",
              "      <td>0.0</td>\n",
              "    </tr>\n",
              "    <tr>\n",
              "      <th>min</th>\n",
              "      <td>0.000000</td>\n",
              "      <td>-22849.710000</td>\n",
              "      <td>0.000000</td>\n",
              "      <td>0.000000</td>\n",
              "      <td>0.000000</td>\n",
              "      <td>0.000000</td>\n",
              "      <td>0.000000</td>\n",
              "      <td>0.000000</td>\n",
              "      <td>0.0</td>\n",
              "      <td>0.000000</td>\n",
              "      <td>0.000000</td>\n",
              "      <td>0.0</td>\n",
              "      <td>0.000000</td>\n",
              "      <td>0.0</td>\n",
              "      <td>0.0</td>\n",
              "      <td>0.0</td>\n",
              "      <td>52.000000</td>\n",
              "      <td>0.000000</td>\n",
              "      <td>0.000000</td>\n",
              "      <td>1.0</td>\n",
              "    </tr>\n",
              "    <tr>\n",
              "      <th>25%</th>\n",
              "      <td>25689.850000</td>\n",
              "      <td>15974.117500</td>\n",
              "      <td>1255.780000</td>\n",
              "      <td>0.000000</td>\n",
              "      <td>1266.040000</td>\n",
              "      <td>0.000000</td>\n",
              "      <td>0.000000</td>\n",
              "      <td>0.000000</td>\n",
              "      <td>0.0</td>\n",
              "      <td>0.000000</td>\n",
              "      <td>0.000000</td>\n",
              "      <td>0.0</td>\n",
              "      <td>0.000000</td>\n",
              "      <td>0.0</td>\n",
              "      <td>0.0</td>\n",
              "      <td>0.0</td>\n",
              "      <td>56.000000</td>\n",
              "      <td>0.000000</td>\n",
              "      <td>1.000000</td>\n",
              "      <td>1.0</td>\n",
              "    </tr>\n",
              "    <tr>\n",
              "      <th>50%</th>\n",
              "      <td>38701.225000</td>\n",
              "      <td>29148.525000</td>\n",
              "      <td>4453.295000</td>\n",
              "      <td>0.000000</td>\n",
              "      <td>3016.165000</td>\n",
              "      <td>0.000000</td>\n",
              "      <td>213.580000</td>\n",
              "      <td>0.000000</td>\n",
              "      <td>0.0</td>\n",
              "      <td>0.000000</td>\n",
              "      <td>0.000000</td>\n",
              "      <td>0.0</td>\n",
              "      <td>0.000000</td>\n",
              "      <td>0.0</td>\n",
              "      <td>0.0</td>\n",
              "      <td>0.0</td>\n",
              "      <td>60.000000</td>\n",
              "      <td>1.000000</td>\n",
              "      <td>1.000000</td>\n",
              "      <td>1.0</td>\n",
              "    </tr>\n",
              "    <tr>\n",
              "      <th>75%</th>\n",
              "      <td>63291.212500</td>\n",
              "      <td>46895.187500</td>\n",
              "      <td>9152.395000</td>\n",
              "      <td>434.500000</td>\n",
              "      <td>6689.467500</td>\n",
              "      <td>0.000000</td>\n",
              "      <td>511.632500</td>\n",
              "      <td>0.000000</td>\n",
              "      <td>0.0</td>\n",
              "      <td>0.000000</td>\n",
              "      <td>0.000000</td>\n",
              "      <td>0.0</td>\n",
              "      <td>0.000000</td>\n",
              "      <td>0.0</td>\n",
              "      <td>0.0</td>\n",
              "      <td>0.0</td>\n",
              "      <td>65.000000</td>\n",
              "      <td>1.000000</td>\n",
              "      <td>1.000000</td>\n",
              "      <td>1.0</td>\n",
              "    </tr>\n",
              "    <tr>\n",
              "      <th>max</th>\n",
              "      <td>295351.050000</td>\n",
              "      <td>262525.550000</td>\n",
              "      <td>130205.760000</td>\n",
              "      <td>53026.040000</td>\n",
              "      <td>104826.680000</td>\n",
              "      <td>13260.000000</td>\n",
              "      <td>1571.800000</td>\n",
              "      <td>129.990000</td>\n",
              "      <td>0.0</td>\n",
              "      <td>1398.210000</td>\n",
              "      <td>346.040000</td>\n",
              "      <td>0.0</td>\n",
              "      <td>3380.140000</td>\n",
              "      <td>0.0</td>\n",
              "      <td>0.0</td>\n",
              "      <td>0.0</td>\n",
              "      <td>70.000000</td>\n",
              "      <td>2.000000</td>\n",
              "      <td>4.000000</td>\n",
              "      <td>1.0</td>\n",
              "    </tr>\n",
              "  </tbody>\n",
              "</table>\n",
              "</div>"
            ],
            "text/plain": [
              "         totalIncome        balance  ...  relationshipStatus_encoded  cluster\n",
              "count    1412.000000    1412.000000  ...                 1412.000000   1412.0\n",
              "mean    48638.206445   34882.985885  ...                    1.288952      1.0\n",
              "std     36606.604801   28959.309325  ...                    1.034524      0.0\n",
              "min         0.000000  -22849.710000  ...                    0.000000      1.0\n",
              "25%     25689.850000   15974.117500  ...                    1.000000      1.0\n",
              "50%     38701.225000   29148.525000  ...                    1.000000      1.0\n",
              "75%     63291.212500   46895.187500  ...                    1.000000      1.0\n",
              "max    295351.050000  262525.550000  ...                    4.000000      1.0\n",
              "\n",
              "[8 rows x 20 columns]"
            ]
          },
          "metadata": {
            "tags": []
          },
          "execution_count": 29
        }
      ]
    },
    {
      "cell_type": "code",
      "metadata": {
        "id": "lYgtZZQeoZkx",
        "colab_type": "code",
        "outputId": "b250af52-dc64-4857-ebd6-96ff799b0578",
        "colab": {
          "base_uri": "https://localhost:8080/",
          "height": 500
        }
      },
      "source": [
        "cluster_1.iloc[1:7,5:-4].plot.bar(figsize=(15,8),rot=0,legend=True)"
      ],
      "execution_count": 30,
      "outputs": [
        {
          "output_type": "execute_result",
          "data": {
            "text/plain": [
              "<matplotlib.axes._subplots.AxesSubplot at 0x7f8b18de8080>"
            ]
          },
          "metadata": {
            "tags": []
          },
          "execution_count": 30
        },
        {
          "output_type": "display_data",
          "data": {
            "image/png": "[encoded data removed]",
            "text/plain": [
              "<Figure size 1080x576 with 1 Axes>"
            ]
          },
          "metadata": {
            "tags": []
          }
        }
      ]
    },
    {
      "cell_type": "code",
      "metadata": {
        "id": "U9cExBQ7T4Ws",
        "colab_type": "code",
        "colab": {}
      },
      "source": [
        ""
      ],
      "execution_count": 0,
      "outputs": []
    },
    {
      "cell_type": "markdown",
      "metadata": {
        "id": "J7BENKprUGuq",
        "colab_type": "text"
      },
      "source": [
        "# cluster 2(N=1646)\n",
        "* Majority of the people in this cluster are in younger age i.e.26 years old.\n",
        "* This group customers has mostly married relationshipstatus. \n",
        "* The gender wise females are dominating in this group. \n",
        "* These customers have less spending in Bills and utilities(75%ile=215 dollars).\n",
        "* These customers have also spend in food and dining.\n",
        "* These customers have less totalincome and balance.\n",
        "* These group of customers have low income.   \n"
      ]
    },
    {
      "cell_type": "code",
      "metadata": {
        "id": "1aqodOaFUiK9",
        "colab_type": "code",
        "outputId": "eb8acc65-7fa6-45e1-e900-fcb79f7ac43f",
        "colab": {
          "base_uri": "https://localhost:8080/",
          "height": 317
        }
      },
      "source": [
        "cluster_2=cluster_features_final.loc[cluster_features_final['cluster'] ==2] .describe()\n",
        "cluster_2"
      ],
      "execution_count": 31,
      "outputs": [
        {
          "output_type": "execute_result",
          "data": {
            "text/html": [
              "<div>\n",
              "<style scoped>\n",
              "    .dataframe tbody tr th:only-of-type {\n",
              "        vertical-align: middle;\n",
              "    }\n",
              "\n",
              "    .dataframe tbody tr th {\n",
              "        vertical-align: top;\n",
              "    }\n",
              "\n",
              "    .dataframe thead th {\n",
              "        text-align: right;\n",
              "    }\n",
              "</style>\n",
              "<table border=\"1\" class=\"dataframe\">\n",
              "  <thead>\n",
              "    <tr style=\"text-align: right;\">\n",
              "      <th></th>\n",
              "      <th>totalIncome</th>\n",
              "      <th>balance</th>\n",
              "      <th>Income</th>\n",
              "      <th>Taxes</th>\n",
              "      <th>Transfer</th>\n",
              "      <th>Mortgage_and_Rent</th>\n",
              "      <th>Bills_and_Utilities</th>\n",
              "      <th>Entertainment</th>\n",
              "      <th>Fees_and_Charges</th>\n",
              "      <th>Home</th>\n",
              "      <th>Shopping</th>\n",
              "      <th>Food_and_Dining</th>\n",
              "      <th>Travel</th>\n",
              "      <th>Auto_and_Transport</th>\n",
              "      <th>Health_and_Fitness</th>\n",
              "      <th>Kids</th>\n",
              "      <th>age</th>\n",
              "      <th>gender_encoded</th>\n",
              "      <th>relationshipStatus_encoded</th>\n",
              "      <th>cluster</th>\n",
              "    </tr>\n",
              "  </thead>\n",
              "  <tbody>\n",
              "    <tr>\n",
              "      <th>count</th>\n",
              "      <td>1646.000000</td>\n",
              "      <td>1646.000000</td>\n",
              "      <td>1646.000000</td>\n",
              "      <td>1646.000000</td>\n",
              "      <td>1646.000000</td>\n",
              "      <td>1646.000000</td>\n",
              "      <td>1646.000000</td>\n",
              "      <td>1646.000000</td>\n",
              "      <td>1646.0</td>\n",
              "      <td>1646.000000</td>\n",
              "      <td>1646.000000</td>\n",
              "      <td>1646.000000</td>\n",
              "      <td>1646.000000</td>\n",
              "      <td>1646.000000</td>\n",
              "      <td>1646.000000</td>\n",
              "      <td>1646.000000</td>\n",
              "      <td>1646.000000</td>\n",
              "      <td>1646.000000</td>\n",
              "      <td>1646.000000</td>\n",
              "      <td>1646.0</td>\n",
              "    </tr>\n",
              "    <tr>\n",
              "      <th>mean</th>\n",
              "      <td>12734.190200</td>\n",
              "      <td>12079.886628</td>\n",
              "      <td>2794.304878</td>\n",
              "      <td>543.345541</td>\n",
              "      <td>3083.340142</td>\n",
              "      <td>254.256987</td>\n",
              "      <td>150.546373</td>\n",
              "      <td>0.577770</td>\n",
              "      <td>0.0</td>\n",
              "      <td>3.225851</td>\n",
              "      <td>19.156446</td>\n",
              "      <td>38.154228</td>\n",
              "      <td>7.095322</td>\n",
              "      <td>0.557108</td>\n",
              "      <td>0.144320</td>\n",
              "      <td>0.202874</td>\n",
              "      <td>25.216889</td>\n",
              "      <td>0.575334</td>\n",
              "      <td>2.682868</td>\n",
              "      <td>2.0</td>\n",
              "    </tr>\n",
              "    <tr>\n",
              "      <th>std</th>\n",
              "      <td>15653.703359</td>\n",
              "      <td>14551.334444</td>\n",
              "      <td>4277.581091</td>\n",
              "      <td>2264.721166</td>\n",
              "      <td>4297.918863</td>\n",
              "      <td>1274.649487</td>\n",
              "      <td>270.844281</td>\n",
              "      <td>9.534941</td>\n",
              "      <td>0.0</td>\n",
              "      <td>37.326071</td>\n",
              "      <td>42.470922</td>\n",
              "      <td>68.983706</td>\n",
              "      <td>133.001108</td>\n",
              "      <td>9.788633</td>\n",
              "      <td>4.719978</td>\n",
              "      <td>8.230771</td>\n",
              "      <td>5.260368</td>\n",
              "      <td>0.616963</td>\n",
              "      <td>0.743955</td>\n",
              "      <td>0.0</td>\n",
              "    </tr>\n",
              "    <tr>\n",
              "      <th>min</th>\n",
              "      <td>0.000000</td>\n",
              "      <td>-20509.770000</td>\n",
              "      <td>0.000000</td>\n",
              "      <td>0.000000</td>\n",
              "      <td>0.000000</td>\n",
              "      <td>0.000000</td>\n",
              "      <td>0.000000</td>\n",
              "      <td>0.000000</td>\n",
              "      <td>0.0</td>\n",
              "      <td>0.000000</td>\n",
              "      <td>0.000000</td>\n",
              "      <td>0.000000</td>\n",
              "      <td>0.000000</td>\n",
              "      <td>0.000000</td>\n",
              "      <td>0.000000</td>\n",
              "      <td>0.000000</td>\n",
              "      <td>15.000000</td>\n",
              "      <td>0.000000</td>\n",
              "      <td>0.000000</td>\n",
              "      <td>2.0</td>\n",
              "    </tr>\n",
              "    <tr>\n",
              "      <th>25%</th>\n",
              "      <td>0.000000</td>\n",
              "      <td>657.740000</td>\n",
              "      <td>0.000000</td>\n",
              "      <td>0.000000</td>\n",
              "      <td>379.228500</td>\n",
              "      <td>0.000000</td>\n",
              "      <td>0.000000</td>\n",
              "      <td>0.000000</td>\n",
              "      <td>0.0</td>\n",
              "      <td>0.000000</td>\n",
              "      <td>0.000000</td>\n",
              "      <td>0.000000</td>\n",
              "      <td>0.000000</td>\n",
              "      <td>0.000000</td>\n",
              "      <td>0.000000</td>\n",
              "      <td>0.000000</td>\n",
              "      <td>21.000000</td>\n",
              "      <td>0.000000</td>\n",
              "      <td>3.000000</td>\n",
              "      <td>2.0</td>\n",
              "    </tr>\n",
              "    <tr>\n",
              "      <th>50%</th>\n",
              "      <td>9263.760000</td>\n",
              "      <td>8082.370000</td>\n",
              "      <td>1272.540000</td>\n",
              "      <td>0.000000</td>\n",
              "      <td>1188.786250</td>\n",
              "      <td>0.000000</td>\n",
              "      <td>0.000000</td>\n",
              "      <td>0.000000</td>\n",
              "      <td>0.0</td>\n",
              "      <td>0.000000</td>\n",
              "      <td>0.000000</td>\n",
              "      <td>0.000000</td>\n",
              "      <td>0.000000</td>\n",
              "      <td>0.000000</td>\n",
              "      <td>0.000000</td>\n",
              "      <td>0.000000</td>\n",
              "      <td>26.000000</td>\n",
              "      <td>1.000000</td>\n",
              "      <td>3.000000</td>\n",
              "      <td>2.0</td>\n",
              "    </tr>\n",
              "    <tr>\n",
              "      <th>75%</th>\n",
              "      <td>17876.430000</td>\n",
              "      <td>16317.480000</td>\n",
              "      <td>3643.635000</td>\n",
              "      <td>0.000000</td>\n",
              "      <td>4446.015500</td>\n",
              "      <td>0.000000</td>\n",
              "      <td>215.937500</td>\n",
              "      <td>0.000000</td>\n",
              "      <td>0.0</td>\n",
              "      <td>0.000000</td>\n",
              "      <td>0.000000</td>\n",
              "      <td>87.177500</td>\n",
              "      <td>0.000000</td>\n",
              "      <td>0.000000</td>\n",
              "      <td>0.000000</td>\n",
              "      <td>0.000000</td>\n",
              "      <td>30.000000</td>\n",
              "      <td>1.000000</td>\n",
              "      <td>3.000000</td>\n",
              "      <td>2.0</td>\n",
              "    </tr>\n",
              "    <tr>\n",
              "      <th>max</th>\n",
              "      <td>198591.000000</td>\n",
              "      <td>197650.440000</td>\n",
              "      <td>53080.850000</td>\n",
              "      <td>49950.000000</td>\n",
              "      <td>51004.020000</td>\n",
              "      <td>11200.000000</td>\n",
              "      <td>1408.800000</td>\n",
              "      <td>241.820000</td>\n",
              "      <td>0.0</td>\n",
              "      <td>962.410000</td>\n",
              "      <td>612.000000</td>\n",
              "      <td>590.160000</td>\n",
              "      <td>3705.170000</td>\n",
              "      <td>247.310000</td>\n",
              "      <td>183.840000</td>\n",
              "      <td>333.930000</td>\n",
              "      <td>33.000000</td>\n",
              "      <td>2.000000</td>\n",
              "      <td>3.000000</td>\n",
              "      <td>2.0</td>\n",
              "    </tr>\n",
              "  </tbody>\n",
              "</table>\n",
              "</div>"
            ],
            "text/plain": [
              "         totalIncome        balance  ...  relationshipStatus_encoded  cluster\n",
              "count    1646.000000    1646.000000  ...                 1646.000000   1646.0\n",
              "mean    12734.190200   12079.886628  ...                    2.682868      2.0\n",
              "std     15653.703359   14551.334444  ...                    0.743955      0.0\n",
              "min         0.000000  -20509.770000  ...                    0.000000      2.0\n",
              "25%         0.000000     657.740000  ...                    3.000000      2.0\n",
              "50%      9263.760000    8082.370000  ...                    3.000000      2.0\n",
              "75%     17876.430000   16317.480000  ...                    3.000000      2.0\n",
              "max    198591.000000  197650.440000  ...                    3.000000      2.0\n",
              "\n",
              "[8 rows x 20 columns]"
            ]
          },
          "metadata": {
            "tags": []
          },
          "execution_count": 31
        }
      ]
    },
    {
      "cell_type": "code",
      "metadata": {
        "id": "Y_6Qkb2k6vUc",
        "colab_type": "code",
        "outputId": "3c2291c4-e650-490f-fb88-92d782f9b2ab",
        "colab": {
          "base_uri": "https://localhost:8080/",
          "height": 488
        }
      },
      "source": [
        "cluster_2.iloc[1:7,5:-4].plot.bar(figsize=(20,10),rot=0,legend=True)"
      ],
      "execution_count": 32,
      "outputs": [
        {
          "output_type": "execute_result",
          "data": {
            "text/plain": [
              "<matplotlib.axes._subplots.AxesSubplot at 0x7f8b15c95b38>"
            ]
          },
          "metadata": {
            "tags": []
          },
          "execution_count": 32
        },
        {
          "output_type": "display_data",
          "data": {
            "image/png": "[encoded data removed]",
            "text/plain": [
              "<Figure size 1440x720 with 1 Axes>"
            ]
          },
          "metadata": {
            "tags": []
          }
        }
      ]
    },
    {
      "cell_type": "code",
      "metadata": {
        "id": "Fpom5-f7S-Md",
        "colab_type": "code",
        "colab": {}
      },
      "source": [
        ""
      ],
      "execution_count": 0,
      "outputs": []
    },
    {
      "cell_type": "markdown",
      "metadata": {
        "id": "Ca3nFaF6S_07",
        "colab_type": "text"
      },
      "source": [
        "# cluster 3(N=799)\n",
        "* Majority of the people in this cluster are in older age i.e.80 years old.\n",
        "* Most of customers have widowed relationshipstatus. \n",
        "* The gender wise females are dominating in this group. \n",
        "* These customers have consistently spending in Bills and utilities(75%ile=518 dollars).\n"
      ]
    },
    {
      "cell_type": "code",
      "metadata": {
        "id": "nV__sofySKhD",
        "colab_type": "code",
        "outputId": "1718ad80-0d30-446d-aed1-a9f0281b66b7",
        "colab": {
          "base_uri": "https://localhost:8080/",
          "height": 317
        }
      },
      "source": [
        "cluster_3=cluster_features_final.loc[cluster_features_final['cluster'] ==3] .describe()\n",
        "cluster_3"
      ],
      "execution_count": 33,
      "outputs": [
        {
          "output_type": "execute_result",
          "data": {
            "text/html": [
              "<div>\n",
              "<style scoped>\n",
              "    .dataframe tbody tr th:only-of-type {\n",
              "        vertical-align: middle;\n",
              "    }\n",
              "\n",
              "    .dataframe tbody tr th {\n",
              "        vertical-align: top;\n",
              "    }\n",
              "\n",
              "    .dataframe thead th {\n",
              "        text-align: right;\n",
              "    }\n",
              "</style>\n",
              "<table border=\"1\" class=\"dataframe\">\n",
              "  <thead>\n",
              "    <tr style=\"text-align: right;\">\n",
              "      <th></th>\n",
              "      <th>totalIncome</th>\n",
              "      <th>balance</th>\n",
              "      <th>Income</th>\n",
              "      <th>Taxes</th>\n",
              "      <th>Transfer</th>\n",
              "      <th>Mortgage_and_Rent</th>\n",
              "      <th>Bills_and_Utilities</th>\n",
              "      <th>Entertainment</th>\n",
              "      <th>Fees_and_Charges</th>\n",
              "      <th>Home</th>\n",
              "      <th>Shopping</th>\n",
              "      <th>Food_and_Dining</th>\n",
              "      <th>Travel</th>\n",
              "      <th>Auto_and_Transport</th>\n",
              "      <th>Health_and_Fitness</th>\n",
              "      <th>Kids</th>\n",
              "      <th>age</th>\n",
              "      <th>gender_encoded</th>\n",
              "      <th>relationshipStatus_encoded</th>\n",
              "      <th>cluster</th>\n",
              "    </tr>\n",
              "  </thead>\n",
              "  <tbody>\n",
              "    <tr>\n",
              "      <th>count</th>\n",
              "      <td>799.000000</td>\n",
              "      <td>799.000000</td>\n",
              "      <td>799.000000</td>\n",
              "      <td>799.000000</td>\n",
              "      <td>799.000000</td>\n",
              "      <td>799.000000</td>\n",
              "      <td>799.000000</td>\n",
              "      <td>799.000000</td>\n",
              "      <td>799.0</td>\n",
              "      <td>799.000000</td>\n",
              "      <td>799.000000</td>\n",
              "      <td>799.0</td>\n",
              "      <td>799.000000</td>\n",
              "      <td>799.0</td>\n",
              "      <td>799.0</td>\n",
              "      <td>799.0</td>\n",
              "      <td>799.000000</td>\n",
              "      <td>799.000000</td>\n",
              "      <td>799.000000</td>\n",
              "      <td>799.0</td>\n",
              "    </tr>\n",
              "    <tr>\n",
              "      <th>mean</th>\n",
              "      <td>38588.441740</td>\n",
              "      <td>23508.365707</td>\n",
              "      <td>4790.315207</td>\n",
              "      <td>1281.943442</td>\n",
              "      <td>5789.895992</td>\n",
              "      <td>637.081352</td>\n",
              "      <td>346.695019</td>\n",
              "      <td>1.952290</td>\n",
              "      <td>0.0</td>\n",
              "      <td>18.589199</td>\n",
              "      <td>9.194781</td>\n",
              "      <td>0.0</td>\n",
              "      <td>10.377509</td>\n",
              "      <td>0.0</td>\n",
              "      <td>0.0</td>\n",
              "      <td>0.0</td>\n",
              "      <td>80.483104</td>\n",
              "      <td>0.605757</td>\n",
              "      <td>1.966208</td>\n",
              "      <td>3.0</td>\n",
              "    </tr>\n",
              "    <tr>\n",
              "      <th>std</th>\n",
              "      <td>28750.438521</td>\n",
              "      <td>20873.868624</td>\n",
              "      <td>7002.552100</td>\n",
              "      <td>4152.722280</td>\n",
              "      <td>8430.219301</td>\n",
              "      <td>1976.494517</td>\n",
              "      <td>307.615310</td>\n",
              "      <td>15.820241</td>\n",
              "      <td>0.0</td>\n",
              "      <td>92.608732</td>\n",
              "      <td>34.038370</td>\n",
              "      <td>0.0</td>\n",
              "      <td>126.111441</td>\n",
              "      <td>0.0</td>\n",
              "      <td>0.0</td>\n",
              "      <td>0.0</td>\n",
              "      <td>7.067657</td>\n",
              "      <td>0.683509</td>\n",
              "      <td>1.451854</td>\n",
              "      <td>0.0</td>\n",
              "    </tr>\n",
              "    <tr>\n",
              "      <th>min</th>\n",
              "      <td>0.000000</td>\n",
              "      <td>-7810.390000</td>\n",
              "      <td>0.000000</td>\n",
              "      <td>0.000000</td>\n",
              "      <td>0.000000</td>\n",
              "      <td>0.000000</td>\n",
              "      <td>0.000000</td>\n",
              "      <td>0.000000</td>\n",
              "      <td>0.0</td>\n",
              "      <td>0.000000</td>\n",
              "      <td>0.000000</td>\n",
              "      <td>0.0</td>\n",
              "      <td>0.000000</td>\n",
              "      <td>0.0</td>\n",
              "      <td>0.0</td>\n",
              "      <td>0.0</td>\n",
              "      <td>71.000000</td>\n",
              "      <td>0.000000</td>\n",
              "      <td>0.000000</td>\n",
              "      <td>3.0</td>\n",
              "    </tr>\n",
              "    <tr>\n",
              "      <th>25%</th>\n",
              "      <td>18677.050000</td>\n",
              "      <td>9957.500000</td>\n",
              "      <td>600.660000</td>\n",
              "      <td>0.000000</td>\n",
              "      <td>1121.490000</td>\n",
              "      <td>0.000000</td>\n",
              "      <td>95.750000</td>\n",
              "      <td>0.000000</td>\n",
              "      <td>0.0</td>\n",
              "      <td>0.000000</td>\n",
              "      <td>0.000000</td>\n",
              "      <td>0.0</td>\n",
              "      <td>0.000000</td>\n",
              "      <td>0.0</td>\n",
              "      <td>0.0</td>\n",
              "      <td>0.0</td>\n",
              "      <td>75.000000</td>\n",
              "      <td>0.000000</td>\n",
              "      <td>1.000000</td>\n",
              "      <td>3.0</td>\n",
              "    </tr>\n",
              "    <tr>\n",
              "      <th>50%</th>\n",
              "      <td>29145.900000</td>\n",
              "      <td>17551.320000</td>\n",
              "      <td>2754.670000</td>\n",
              "      <td>0.000000</td>\n",
              "      <td>2879.580000</td>\n",
              "      <td>0.000000</td>\n",
              "      <td>283.040000</td>\n",
              "      <td>0.000000</td>\n",
              "      <td>0.0</td>\n",
              "      <td>0.000000</td>\n",
              "      <td>0.000000</td>\n",
              "      <td>0.0</td>\n",
              "      <td>0.000000</td>\n",
              "      <td>0.0</td>\n",
              "      <td>0.0</td>\n",
              "      <td>0.0</td>\n",
              "      <td>80.000000</td>\n",
              "      <td>0.000000</td>\n",
              "      <td>1.000000</td>\n",
              "      <td>3.0</td>\n",
              "    </tr>\n",
              "    <tr>\n",
              "      <th>75%</th>\n",
              "      <td>50359.750000</td>\n",
              "      <td>29233.120000</td>\n",
              "      <td>5459.280000</td>\n",
              "      <td>876.500000</td>\n",
              "      <td>6841.415000</td>\n",
              "      <td>0.000000</td>\n",
              "      <td>518.795000</td>\n",
              "      <td>0.000000</td>\n",
              "      <td>0.0</td>\n",
              "      <td>0.000000</td>\n",
              "      <td>0.000000</td>\n",
              "      <td>0.0</td>\n",
              "      <td>0.000000</td>\n",
              "      <td>0.0</td>\n",
              "      <td>0.0</td>\n",
              "      <td>0.0</td>\n",
              "      <td>85.000000</td>\n",
              "      <td>1.000000</td>\n",
              "      <td>4.000000</td>\n",
              "      <td>3.0</td>\n",
              "    </tr>\n",
              "    <tr>\n",
              "      <th>max</th>\n",
              "      <td>222653.200000</td>\n",
              "      <td>153074.870000</td>\n",
              "      <td>67128.040000</td>\n",
              "      <td>40773.600000</td>\n",
              "      <td>80677.230000</td>\n",
              "      <td>12760.000000</td>\n",
              "      <td>1548.680000</td>\n",
              "      <td>129.990000</td>\n",
              "      <td>0.0</td>\n",
              "      <td>1219.480000</td>\n",
              "      <td>197.380000</td>\n",
              "      <td>0.0</td>\n",
              "      <td>1929.580000</td>\n",
              "      <td>0.0</td>\n",
              "      <td>0.0</td>\n",
              "      <td>0.0</td>\n",
              "      <td>107.000000</td>\n",
              "      <td>2.000000</td>\n",
              "      <td>4.000000</td>\n",
              "      <td>3.0</td>\n",
              "    </tr>\n",
              "  </tbody>\n",
              "</table>\n",
              "</div>"
            ],
            "text/plain": [
              "         totalIncome        balance  ...  relationshipStatus_encoded  cluster\n",
              "count     799.000000     799.000000  ...                  799.000000    799.0\n",
              "mean    38588.441740   23508.365707  ...                    1.966208      3.0\n",
              "std     28750.438521   20873.868624  ...                    1.451854      0.0\n",
              "min         0.000000   -7810.390000  ...                    0.000000      3.0\n",
              "25%     18677.050000    9957.500000  ...                    1.000000      3.0\n",
              "50%     29145.900000   17551.320000  ...                    1.000000      3.0\n",
              "75%     50359.750000   29233.120000  ...                    4.000000      3.0\n",
              "max    222653.200000  153074.870000  ...                    4.000000      3.0\n",
              "\n",
              "[8 rows x 20 columns]"
            ]
          },
          "metadata": {
            "tags": []
          },
          "execution_count": 33
        }
      ]
    },
    {
      "cell_type": "code",
      "metadata": {
        "id": "bst-eLvySLC6",
        "colab_type": "code",
        "outputId": "b13e8a6c-0cf2-4742-8788-49089b00e6cd",
        "colab": {
          "base_uri": "https://localhost:8080/",
          "height": 488
        }
      },
      "source": [
        "cluster_3.iloc[1:7,5:-4].plot.bar(figsize=(20,10),rot=0,legend=True)"
      ],
      "execution_count": 34,
      "outputs": [
        {
          "output_type": "execute_result",
          "data": {
            "text/plain": [
              "<matplotlib.axes._subplots.AxesSubplot at 0x7f8b15b56cf8>"
            ]
          },
          "metadata": {
            "tags": []
          },
          "execution_count": 34
        },
        {
          "output_type": "display_data",
          "data": {
            "image/png": "[encoded data removed]",
            "text/plain": [
              "<Figure size 1440x720 with 1 Axes>"
            ]
          },
          "metadata": {
            "tags": []
          }
        }
      ]
    },
    {
      "cell_type": "code",
      "metadata": {
        "id": "PoM0jA1EpjWZ",
        "colab_type": "code",
        "colab": {}
      },
      "source": [
        ""
      ],
      "execution_count": 0,
      "outputs": []
    },
    {
      "cell_type": "code",
      "metadata": {
        "id": "lW_yUtOgpjlw",
        "colab_type": "code",
        "outputId": "4f7337ed-c588-4d48-c629-51f2a2f88314",
        "colab": {
          "base_uri": "https://localhost:8080/",
          "height": 326
        }
      },
      "source": [
        "cleaned_data.head()"
      ],
      "execution_count": 35,
      "outputs": [
        {
          "output_type": "execute_result",
          "data": {
            "text/html": [
              "<div>\n",
              "<style scoped>\n",
              "    .dataframe tbody tr th:only-of-type {\n",
              "        vertical-align: middle;\n",
              "    }\n",
              "\n",
              "    .dataframe tbody tr th {\n",
              "        vertical-align: top;\n",
              "    }\n",
              "\n",
              "    .dataframe thead th {\n",
              "        text-align: right;\n",
              "    }\n",
              "</style>\n",
              "<table border=\"1\" class=\"dataframe\">\n",
              "  <thead>\n",
              "    <tr style=\"text-align: right;\">\n",
              "      <th></th>\n",
              "      <th>Unnamed: 0</th>\n",
              "      <th>id</th>\n",
              "      <th>type</th>\n",
              "      <th>gender</th>\n",
              "      <th>totalIncome</th>\n",
              "      <th>relationshipStatus</th>\n",
              "      <th>balance</th>\n",
              "      <th>currencyAmount</th>\n",
              "      <th>Income</th>\n",
              "      <th>Taxes</th>\n",
              "      <th>Transfer</th>\n",
              "      <th>Mortgage_and_Rent</th>\n",
              "      <th>Bills_and_Utilities</th>\n",
              "      <th>Entertainment</th>\n",
              "      <th>Fees_and_Charges</th>\n",
              "      <th>Home</th>\n",
              "      <th>Shopping</th>\n",
              "      <th>Food_and_Dining</th>\n",
              "      <th>Travel</th>\n",
              "      <th>Auto_and_Transport</th>\n",
              "      <th>Health_and_Fitness</th>\n",
              "      <th>Kids</th>\n",
              "      <th>age</th>\n",
              "    </tr>\n",
              "  </thead>\n",
              "  <tbody>\n",
              "    <tr>\n",
              "      <th>0</th>\n",
              "      <td>0</td>\n",
              "      <td>fe51c153-fbec-4b64-9b00-2530035ef0e1_1bf5af3c-...</td>\n",
              "      <td>Personal</td>\n",
              "      <td>Male</td>\n",
              "      <td>0.0</td>\n",
              "      <td>Single</td>\n",
              "      <td>0.00</td>\n",
              "      <td>8557.305</td>\n",
              "      <td>0.00</td>\n",
              "      <td>0.0</td>\n",
              "      <td>8557.305</td>\n",
              "      <td>0.0</td>\n",
              "      <td>0.00</td>\n",
              "      <td>0.0</td>\n",
              "      <td>0.0</td>\n",
              "      <td>0.0</td>\n",
              "      <td>0.0</td>\n",
              "      <td>0.00</td>\n",
              "      <td>0.0</td>\n",
              "      <td>0.0</td>\n",
              "      <td>0.0</td>\n",
              "      <td>0.0</td>\n",
              "      <td>34</td>\n",
              "    </tr>\n",
              "    <tr>\n",
              "      <th>1</th>\n",
              "      <td>1</td>\n",
              "      <td>fe51c153-fbec-4b64-9b00-2530035ef0e1_6e740a94-...</td>\n",
              "      <td>Personal</td>\n",
              "      <td>Female</td>\n",
              "      <td>40009.2</td>\n",
              "      <td>Married</td>\n",
              "      <td>39306.34</td>\n",
              "      <td>5012.680</td>\n",
              "      <td>3077.64</td>\n",
              "      <td>0.0</td>\n",
              "      <td>1463.080</td>\n",
              "      <td>0.0</td>\n",
              "      <td>471.96</td>\n",
              "      <td>0.0</td>\n",
              "      <td>0.0</td>\n",
              "      <td>0.0</td>\n",
              "      <td>0.0</td>\n",
              "      <td>0.00</td>\n",
              "      <td>0.0</td>\n",
              "      <td>0.0</td>\n",
              "      <td>0.0</td>\n",
              "      <td>0.0</td>\n",
              "      <td>43</td>\n",
              "    </tr>\n",
              "    <tr>\n",
              "      <th>2</th>\n",
              "      <td>2</td>\n",
              "      <td>fe51c153-fbec-4b64-9b00-2530035ef0e1_3918fdef-...</td>\n",
              "      <td>Personal</td>\n",
              "      <td>Female</td>\n",
              "      <td>0.0</td>\n",
              "      <td>Single</td>\n",
              "      <td>122.16</td>\n",
              "      <td>1647.772</td>\n",
              "      <td>0.00</td>\n",
              "      <td>0.0</td>\n",
              "      <td>1447.042</td>\n",
              "      <td>0.0</td>\n",
              "      <td>0.00</td>\n",
              "      <td>0.0</td>\n",
              "      <td>0.0</td>\n",
              "      <td>0.0</td>\n",
              "      <td>66.3</td>\n",
              "      <td>134.43</td>\n",
              "      <td>0.0</td>\n",
              "      <td>0.0</td>\n",
              "      <td>0.0</td>\n",
              "      <td>0.0</td>\n",
              "      <td>16</td>\n",
              "    </tr>\n",
              "    <tr>\n",
              "      <th>3</th>\n",
              "      <td>3</td>\n",
              "      <td>fe51c153-fbec-4b64-9b00-2530035ef0e1_d81a6d15-...</td>\n",
              "      <td>Personal</td>\n",
              "      <td>Other</td>\n",
              "      <td>44709.0</td>\n",
              "      <td>Married</td>\n",
              "      <td>43687.72</td>\n",
              "      <td>25992.760</td>\n",
              "      <td>6878.32</td>\n",
              "      <td>0.0</td>\n",
              "      <td>19114.440</td>\n",
              "      <td>0.0</td>\n",
              "      <td>0.00</td>\n",
              "      <td>0.0</td>\n",
              "      <td>0.0</td>\n",
              "      <td>0.0</td>\n",
              "      <td>0.0</td>\n",
              "      <td>0.00</td>\n",
              "      <td>0.0</td>\n",
              "      <td>0.0</td>\n",
              "      <td>0.0</td>\n",
              "      <td>0.0</td>\n",
              "      <td>37</td>\n",
              "    </tr>\n",
              "    <tr>\n",
              "      <th>4</th>\n",
              "      <td>4</td>\n",
              "      <td>fe51c153-fbec-4b64-9b00-2530035ef0e1_e21dfbc8-...</td>\n",
              "      <td>Personal</td>\n",
              "      <td>Male</td>\n",
              "      <td>21496.0</td>\n",
              "      <td>Single</td>\n",
              "      <td>23456.30</td>\n",
              "      <td>5304.530</td>\n",
              "      <td>4133.85</td>\n",
              "      <td>0.0</td>\n",
              "      <td>1170.680</td>\n",
              "      <td>0.0</td>\n",
              "      <td>0.00</td>\n",
              "      <td>0.0</td>\n",
              "      <td>0.0</td>\n",
              "      <td>0.0</td>\n",
              "      <td>0.0</td>\n",
              "      <td>0.00</td>\n",
              "      <td>0.0</td>\n",
              "      <td>0.0</td>\n",
              "      <td>0.0</td>\n",
              "      <td>0.0</td>\n",
              "      <td>37</td>\n",
              "    </tr>\n",
              "  </tbody>\n",
              "</table>\n",
              "</div>"
            ],
            "text/plain": [
              "   Unnamed: 0                                                 id  ... Kids age\n",
              "0           0  fe51c153-fbec-4b64-9b00-2530035ef0e1_1bf5af3c-...  ...  0.0  34\n",
              "1           1  fe51c153-fbec-4b64-9b00-2530035ef0e1_6e740a94-...  ...  0.0  43\n",
              "2           2  fe51c153-fbec-4b64-9b00-2530035ef0e1_3918fdef-...  ...  0.0  16\n",
              "3           3  fe51c153-fbec-4b64-9b00-2530035ef0e1_d81a6d15-...  ...  0.0  37\n",
              "4           4  fe51c153-fbec-4b64-9b00-2530035ef0e1_e21dfbc8-...  ...  0.0  37\n",
              "\n",
              "[5 rows x 23 columns]"
            ]
          },
          "metadata": {
            "tags": []
          },
          "execution_count": 35
        }
      ]
    },
    {
      "cell_type": "code",
      "metadata": {
        "id": "S8HKCuUXpj0x",
        "colab_type": "code",
        "colab": {}
      },
      "source": [
        "aa=cleaned_data.iloc[:,8:-1]"
      ],
      "execution_count": 0,
      "outputs": []
    },
    {
      "cell_type": "code",
      "metadata": {
        "id": "J77grTVmpj_0",
        "colab_type": "code",
        "outputId": "aeb4dbec-e9f6-4342-8835-01408486650a",
        "colab": {
          "base_uri": "https://localhost:8080/",
          "height": 224
        }
      },
      "source": [
        "cluster_features_final.head()"
      ],
      "execution_count": 37,
      "outputs": [
        {
          "output_type": "execute_result",
          "data": {
            "text/html": [
              "<div>\n",
              "<style scoped>\n",
              "    .dataframe tbody tr th:only-of-type {\n",
              "        vertical-align: middle;\n",
              "    }\n",
              "\n",
              "    .dataframe tbody tr th {\n",
              "        vertical-align: top;\n",
              "    }\n",
              "\n",
              "    .dataframe thead th {\n",
              "        text-align: right;\n",
              "    }\n",
              "</style>\n",
              "<table border=\"1\" class=\"dataframe\">\n",
              "  <thead>\n",
              "    <tr style=\"text-align: right;\">\n",
              "      <th></th>\n",
              "      <th>gender</th>\n",
              "      <th>totalIncome</th>\n",
              "      <th>relationshipStatus</th>\n",
              "      <th>balance</th>\n",
              "      <th>Income</th>\n",
              "      <th>Taxes</th>\n",
              "      <th>Transfer</th>\n",
              "      <th>Mortgage_and_Rent</th>\n",
              "      <th>Bills_and_Utilities</th>\n",
              "      <th>Entertainment</th>\n",
              "      <th>Fees_and_Charges</th>\n",
              "      <th>Home</th>\n",
              "      <th>Shopping</th>\n",
              "      <th>Food_and_Dining</th>\n",
              "      <th>Travel</th>\n",
              "      <th>Auto_and_Transport</th>\n",
              "      <th>Health_and_Fitness</th>\n",
              "      <th>Kids</th>\n",
              "      <th>age</th>\n",
              "      <th>gender_encoded</th>\n",
              "      <th>relationshipStatus_encoded</th>\n",
              "      <th>cluster</th>\n",
              "    </tr>\n",
              "  </thead>\n",
              "  <tbody>\n",
              "    <tr>\n",
              "      <th>0</th>\n",
              "      <td>Male</td>\n",
              "      <td>0.0</td>\n",
              "      <td>Single</td>\n",
              "      <td>0.00</td>\n",
              "      <td>0.00</td>\n",
              "      <td>0.0</td>\n",
              "      <td>8557.305</td>\n",
              "      <td>0.0</td>\n",
              "      <td>0.00</td>\n",
              "      <td>0.0</td>\n",
              "      <td>0.0</td>\n",
              "      <td>0.0</td>\n",
              "      <td>0.0</td>\n",
              "      <td>0.00</td>\n",
              "      <td>0.0</td>\n",
              "      <td>0.0</td>\n",
              "      <td>0.0</td>\n",
              "      <td>0.0</td>\n",
              "      <td>34</td>\n",
              "      <td>1</td>\n",
              "      <td>3</td>\n",
              "      <td>0</td>\n",
              "    </tr>\n",
              "    <tr>\n",
              "      <th>1</th>\n",
              "      <td>Female</td>\n",
              "      <td>40009.2</td>\n",
              "      <td>Married</td>\n",
              "      <td>39306.34</td>\n",
              "      <td>3077.64</td>\n",
              "      <td>0.0</td>\n",
              "      <td>1463.080</td>\n",
              "      <td>0.0</td>\n",
              "      <td>471.96</td>\n",
              "      <td>0.0</td>\n",
              "      <td>0.0</td>\n",
              "      <td>0.0</td>\n",
              "      <td>0.0</td>\n",
              "      <td>0.00</td>\n",
              "      <td>0.0</td>\n",
              "      <td>0.0</td>\n",
              "      <td>0.0</td>\n",
              "      <td>0.0</td>\n",
              "      <td>43</td>\n",
              "      <td>0</td>\n",
              "      <td>1</td>\n",
              "      <td>0</td>\n",
              "    </tr>\n",
              "    <tr>\n",
              "      <th>2</th>\n",
              "      <td>Female</td>\n",
              "      <td>0.0</td>\n",
              "      <td>Single</td>\n",
              "      <td>122.16</td>\n",
              "      <td>0.00</td>\n",
              "      <td>0.0</td>\n",
              "      <td>1447.042</td>\n",
              "      <td>0.0</td>\n",
              "      <td>0.00</td>\n",
              "      <td>0.0</td>\n",
              "      <td>0.0</td>\n",
              "      <td>0.0</td>\n",
              "      <td>66.3</td>\n",
              "      <td>134.43</td>\n",
              "      <td>0.0</td>\n",
              "      <td>0.0</td>\n",
              "      <td>0.0</td>\n",
              "      <td>0.0</td>\n",
              "      <td>16</td>\n",
              "      <td>0</td>\n",
              "      <td>3</td>\n",
              "      <td>2</td>\n",
              "    </tr>\n",
              "    <tr>\n",
              "      <th>3</th>\n",
              "      <td>Other</td>\n",
              "      <td>44709.0</td>\n",
              "      <td>Married</td>\n",
              "      <td>43687.72</td>\n",
              "      <td>6878.32</td>\n",
              "      <td>0.0</td>\n",
              "      <td>19114.440</td>\n",
              "      <td>0.0</td>\n",
              "      <td>0.00</td>\n",
              "      <td>0.0</td>\n",
              "      <td>0.0</td>\n",
              "      <td>0.0</td>\n",
              "      <td>0.0</td>\n",
              "      <td>0.00</td>\n",
              "      <td>0.0</td>\n",
              "      <td>0.0</td>\n",
              "      <td>0.0</td>\n",
              "      <td>0.0</td>\n",
              "      <td>37</td>\n",
              "      <td>2</td>\n",
              "      <td>1</td>\n",
              "      <td>0</td>\n",
              "    </tr>\n",
              "    <tr>\n",
              "      <th>4</th>\n",
              "      <td>Male</td>\n",
              "      <td>21496.0</td>\n",
              "      <td>Single</td>\n",
              "      <td>23456.30</td>\n",
              "      <td>4133.85</td>\n",
              "      <td>0.0</td>\n",
              "      <td>1170.680</td>\n",
              "      <td>0.0</td>\n",
              "      <td>0.00</td>\n",
              "      <td>0.0</td>\n",
              "      <td>0.0</td>\n",
              "      <td>0.0</td>\n",
              "      <td>0.0</td>\n",
              "      <td>0.00</td>\n",
              "      <td>0.0</td>\n",
              "      <td>0.0</td>\n",
              "      <td>0.0</td>\n",
              "      <td>0.0</td>\n",
              "      <td>37</td>\n",
              "      <td>1</td>\n",
              "      <td>3</td>\n",
              "      <td>0</td>\n",
              "    </tr>\n",
              "  </tbody>\n",
              "</table>\n",
              "</div>"
            ],
            "text/plain": [
              "   gender  totalIncome  ... relationshipStatus_encoded  cluster\n",
              "0    Male          0.0  ...                          3        0\n",
              "1  Female      40009.2  ...                          1        0\n",
              "2  Female          0.0  ...                          3        2\n",
              "3   Other      44709.0  ...                          1        0\n",
              "4    Male      21496.0  ...                          3        0\n",
              "\n",
              "[5 rows x 22 columns]"
            ]
          },
          "metadata": {
            "tags": []
          },
          "execution_count": 37
        }
      ]
    },
    {
      "cell_type": "code",
      "metadata": {
        "id": "FkcaA6fYpkLe",
        "colab_type": "code",
        "colab": {}
      },
      "source": [
        "#aa=cluster_features_final.iloc[1:7,5:-4]"
      ],
      "execution_count": 0,
      "outputs": []
    },
    {
      "cell_type": "code",
      "metadata": {
        "id": "NHdrfHqxpi5D",
        "colab_type": "code",
        "outputId": "470c8810-fb58-4c76-95c7-151e9f415723",
        "colab": {
          "base_uri": "https://localhost:8080/",
          "height": 255
        }
      },
      "source": [
        "# Create list to loop through\n",
        "dep_vars = list(aa.columns)\n",
        "\n",
        "\n",
        "# Create loop to test each feature as a dependent variable\n",
        "for var in dep_vars:\n",
        "\n",
        "    # TODO: Make a copy of the DataFrame, using the 'drop' function to drop the given feature\n",
        "    new_data = aa.drop([var], axis = 1)\n",
        "    # Confirm drop\n",
        "    # display(new_data.head(2))\n",
        "\n",
        "    # Create feature Series (Vector)\n",
        "    new_feature = pd.DataFrame(aa.loc[:, var])\n",
        "    # Confirm creation of new feature\n",
        "    # display(new_feature.head(2))\n",
        "\n",
        "    # TODO: Split the data into training and testing sets using the given feature as the target\n",
        "    X_train, X_test, y_train, y_test = train_test_split(new_data, new_feature, test_size=0.25, random_state=42)\n",
        "\n",
        "    # TODO: Create a decision tree regressor and fit it to the training set\n",
        "    # Instantiate\n",
        "    dtr = DecisionTreeRegressor(random_state=42)\n",
        "    # Fit\n",
        "    dtr.fit(X_train, y_train)\n",
        "\n",
        "    # TODO: Report the score of the prediction using the testing set\n",
        "    # Returns R^2\n",
        "    score = dtr.score(X_test, y_test)\n",
        "    print('R2 score for {} as dependent variable: {}'.format(var, score))\n",
        "  "
      ],
      "execution_count": 59,
      "outputs": [
        {
          "output_type": "stream",
          "text": [
            "R2 score for Income as dependent variable: -0.6359245333907684\n",
            "R2 score for Taxes as dependent variable: -0.8293625769734829\n",
            "R2 score for Transfer as dependent variable: -0.697539104133654\n",
            "R2 score for Mortgage_and_Rent as dependent variable: -0.7591082028776035\n",
            "R2 score for Bills_and_Utilities as dependent variable: -0.22002084182474713\n",
            "R2 score for Entertainment as dependent variable: -1.441103640583532\n",
            "R2 score for Fees_and_Charges as dependent variable: 1.0\n",
            "R2 score for Home as dependent variable: -0.5534530499956669\n",
            "R2 score for Shopping as dependent variable: -0.8815427626891121\n",
            "R2 score for Food_and_Dining as dependent variable: 0.5348640937131056\n",
            "R2 score for Travel as dependent variable: -0.6733843577057452\n",
            "R2 score for Auto_and_Transport as dependent variable: -0.0007304601899196239\n",
            "R2 score for Health_and_Fitness as dependent variable: -0.0007304601899198461\n",
            "R2 score for Kids as dependent variable: -0.0007304601899194019\n"
          ],
          "name": "stdout"
        }
      ]
    },
    {
      "cell_type": "markdown",
      "metadata": {
        "id": "Ej5jdi6msqU9",
        "colab_type": "text"
      },
      "source": [
        "#\n",
        "food and dining has postive score\n",
        "the other variables show negative relationship.\n",
        "shopping,taxes has maximum negative score"
      ]
    },
    {
      "cell_type": "code",
      "metadata": {
        "id": "r5GzK73NpioM",
        "colab_type": "code",
        "colab": {}
      },
      "source": [
        "from sklearn.decomposition import PCA"
      ],
      "execution_count": 0,
      "outputs": []
    },
    {
      "cell_type": "code",
      "metadata": {
        "id": "6UkELwLopidD",
        "colab_type": "code",
        "colab": {
          "base_uri": "https://localhost:8080/",
          "height": 361
        },
        "outputId": "7f202c63-6f65-43bf-d0d1-d037a3536041"
      },
      "source": [
        "import numpy as np\n",
        "import pandas as pd\n",
        "import matplotlib.pyplot as plt\n",
        "\n",
        "corr = aa.corr()\n",
        "fig = plt.figure()\n",
        "ax = fig.add_subplot(111)\n",
        "cax = ax.matshow(corr,cmap='coolwarm', vmin=-1, vmax=1)\n",
        "fig.colorbar(cax)\n",
        "ticks = np.arange(0,len(aa.columns),1)\n",
        "ax.set_xticks(ticks)\n",
        "plt.xticks(rotation=90)\n",
        "ax.set_yticks(ticks)\n",
        "ax.set_xticklabels(aa.columns)\n",
        "ax.set_yticklabels(aa.columns)\n",
        "plt.show()"
      ],
      "execution_count": 55,
      "outputs": [
        {
          "output_type": "display_data",
          "data": {
            "image/png": "[encoded data removed]",
            "text/plain": [
              "<Figure size 432x288 with 2 Axes>"
            ]
          },
          "metadata": {
            "tags": [],
            "needs_background": "light"
          }
        }
      ]
    },
    {
      "cell_type": "code",
      "metadata": {
        "id": "IEnzLe5fpiaM",
        "colab_type": "code",
        "colab": {}
      },
      "source": [
        ""
      ],
      "execution_count": 0,
      "outputs": []
    },
    {
      "cell_type": "markdown",
      "metadata": {
        "id": "9NbAZNXEh72M",
        "colab_type": "text"
      },
      "source": [
        "# correlation\n",
        "when there is no correlation between 2 variables (when correlation is 0 or near 0) the color is gray. The darkest red means there is a perfect positive correlation, while the darkest blue means there is a perfect negative correlation.\n",
        "it shows some positive relationship beween auto and transport and health and fitness, shopping and food and dinning."
      ]
    },
    {
      "cell_type": "code",
      "metadata": {
        "id": "X1eZbmUIpiSa",
        "colab_type": "code",
        "colab": {}
      },
      "source": [
        ""
      ],
      "execution_count": 0,
      "outputs": []
    },
    {
      "cell_type": "code",
      "metadata": {
        "id": "-lQwFsLipiPE",
        "colab_type": "code",
        "colab": {}
      },
      "source": [
        ""
      ],
      "execution_count": 0,
      "outputs": []
    },
    {
      "cell_type": "code",
      "metadata": {
        "id": "C98gySyppiL7",
        "colab_type": "code",
        "colab": {}
      },
      "source": [
        ""
      ],
      "execution_count": 0,
      "outputs": []
    }
  ]
}